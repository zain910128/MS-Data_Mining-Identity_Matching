{
  "nbformat": 4,
  "nbformat_minor": 0,
  "metadata": {
    "colab": {
      "name": "Data Mining Project - Identity Matching.ipynb",
      "provenance": [],
      "collapsed_sections": [],
      "toc_visible": true,
      "machine_shape": "hm",
      "include_colab_link": true
    },
    "kernelspec": {
      "name": "python3",
      "display_name": "Python 3"
    }
  },
  "cells": [
    {
      "cell_type": "markdown",
      "metadata": {
        "id": "view-in-github",
        "colab_type": "text"
      },
      "source": [
        "<a href=\"https://colab.research.google.com/github/zain910128/MS-Data_Mining-Identity_Matching/blob/master/Data_Mining_Project_Identity_Matching.ipynb\" target=\"_parent\"><img src=\"https://colab.research.google.com/assets/colab-badge.svg\" alt=\"Open In Colab\"/></a>"
      ]
    },
    {
      "cell_type": "markdown",
      "metadata": {
        "id": "5Olto8lZ6lcL",
        "colab_type": "text"
      },
      "source": [
        "# Executive Summary\n",
        "\n",
        "\n",
        "\n",
        "### Problem statement:\n",
        "\n",
        "The dataset contains 1,000,000 records of patient information. \n",
        "\n",
        "The objective is to find the records / \"enterprise id\" which belong to the same person using only their demographic data\n",
        "\n",
        "### Significance of the problem:\n",
        "\n",
        "- With increase in adoption of EHR system and improvement in Health IT infrastructure across the system, there is a more than ever increasing need for integrating profiles and data across multiple systems\n",
        "- It is critical to match profiles to create a comprehensive history of patient’s health record and to improve interoperability in the system\n",
        "- Health care providers must be able to share patient health information and accurately match a patient to his or her data from a different provider\n",
        "- Matching mistakes can contribute toward adverse events, compromised safety and privacy, and increased health care costs due to repeat tests, and other factors\n",
        "- The cost to manually correct mismatched patient records is estimated to be $60 per record not including the potential harm that could be caused due to a patient receiving the wrong treatment and potential legal fees\n",
        "\n",
        "### Data source:\n",
        "  - https://www.patientmatchingchallenge.com/challenge-information/challenge-details\n",
        "\n",
        "  - https://github.com/onc-healthit/patient-matching\n",
        "\n",
        "\n",
        "### Important resources:\n",
        "\n",
        "  - https://mindfulmachines.io/blog/2017/7/23/onc-patient-matching-challenge-part-2\n",
        "  - https://people.cs.pitt.edu/~kirk/cs1501/Pruhs/Spring2006/assignments/editdistance/Levenshtein%20Distance.htm\n",
        "\n",
        "  - https://github.com/oakmac/record-linking-talk/blob/master/src/com/oakmac/conj2019/record_linking_talk/core.clj\n",
        "  - https://www.youtube.com/watch?v=rGKEOMUtJfE\n",
        "  - http://www.bristol.ac.uk/media-library/sites/cmm/migrated/documents/problinkage.pdf (slide 17 onwards)\n",
        "  - https://www.ncbi.nlm.nih.gov/books/NBK253312/\n",
        "  - https://towardsdatascience.com/fuzzy-matching-at-scale-84f2bfd0c536"
      ]
    },
    {
      "cell_type": "markdown",
      "metadata": {
        "id": "JoPh3M9O8es-",
        "colab_type": "text"
      },
      "source": [
        "# Get Data and Pre-Process"
      ]
    },
    {
      "cell_type": "code",
      "metadata": {
        "id": "eVb7-P70Gtv5",
        "colab_type": "code",
        "colab": {
          "base_uri": "https://localhost:8080/",
          "height": 799
        },
        "outputId": "db20b718-d98c-43dc-8e08-76c86ed8fc57"
      },
      "source": [
        "import pandas as pd\n",
        "import io\n",
        "import requests\n",
        "import numpy as np\n",
        "\n",
        "urls=[\"https://raw.githubusercontent.com/onc-healthit/patient-matching/master/ONC%20Patient%20Matching%20Algorithm%20Challenge%20Test%20Dataset.A-C.csv\",\n",
        "     \"https://raw.githubusercontent.com/onc-healthit/patient-matching/master/ONC%20Patient%20Matching%20Algorithm%20Challenge%20Test%20Dataset.D-F.csv\",\n",
        "     \"https://raw.githubusercontent.com/onc-healthit/patient-matching/master/ONC%20Patient%20Matching%20Algorithm%20Challenge%20Test%20Dataset.G-I.csv\",\n",
        "     \"https://raw.githubusercontent.com/onc-healthit/patient-matching/master/ONC%20Patient%20Matching%20Algorithm%20Challenge%20Test%20Dataset.J-mid%20L.csv\",\n",
        "     \"https://raw.githubusercontent.com/onc-healthit/patient-matching/master/ONC%20Patient%20Matching%20Algorithm%20Challenge%20Test%20Dataset.mid%20L%20-%20N.csv\",\n",
        "     \"https://raw.githubusercontent.com/onc-healthit/patient-matching/master/ONC%20Patient%20Matching%20Algorithm%20Challenge%20Test%20Dataset.O-R.csv\",\n",
        "     \"https://raw.githubusercontent.com/onc-healthit/patient-matching/master/ONC%20Patient%20Matching%20Algorithm%20Challenge%20Test%20Dataset.S.csv\",\n",
        "     \"https://raw.githubusercontent.com/onc-healthit/patient-matching/master/ONC%20Patient%20Matching%20Algorithm%20Challenge%20Test%20Dataset.T-Z.csv\",\n",
        "     \"https://raw.githubusercontent.com/onc-healthit/patient-matching/master/ONC%20Patient%20Matching%20Algorithm%20Challenge%20Test%20Dataset.Null.csv\",\n",
        "    ]\n",
        "\n",
        "data = pd.DataFrame()\n",
        "for url in urls:\n",
        "  s=requests.get(url).content\n",
        "  data = pd.concat([data , pd.read_csv(io.StringIO(s.decode('utf-8')))])\n",
        "\n",
        "print(data.shape)\n",
        "print(data.dtypes)\n",
        "data= data.reset_index()\n",
        "data.head()"
      ],
      "execution_count": 46,
      "outputs": [
        {
          "output_type": "stream",
          "text": [
            "/usr/local/lib/python3.6/dist-packages/IPython/core/interactiveshell.py:2718: DtypeWarning: Columns (10) have mixed types.Specify dtype option on import or set low_memory=False.\n",
            "  interactivity=interactivity, compiler=compiler, result=result)\n",
            "/usr/local/lib/python3.6/dist-packages/IPython/core/interactiveshell.py:2718: DtypeWarning: Columns (1,4,10) have mixed types.Specify dtype option on import or set low_memory=False.\n",
            "  interactivity=interactivity, compiler=compiler, result=result)\n"
          ],
          "name": "stderr"
        },
        {
          "output_type": "stream",
          "text": [
            "(1000000, 19)\n",
            "EnterpriseID             int64\n",
            "LAST                    object\n",
            "FIRST                   object\n",
            "MIDDLE                  object\n",
            "SUFFIX                  object\n",
            "DOB                    float64\n",
            "GENDER                  object\n",
            "SSN                     object\n",
            "ADDRESS1                object\n",
            "ADDRESS2                object\n",
            "ZIP                     object\n",
            "MOTHERS_MAIDEN_NAME     object\n",
            "MRN                    float64\n",
            "CITY                    object\n",
            "STATE                   object\n",
            "PHONE                   object\n",
            "PHONE2                  object\n",
            "EMAIL                   object\n",
            "ALIAS                   object\n",
            "dtype: object\n"
          ],
          "name": "stdout"
        },
        {
          "output_type": "execute_result",
          "data": {
            "text/html": [
              "<div>\n",
              "<style scoped>\n",
              "    .dataframe tbody tr th:only-of-type {\n",
              "        vertical-align: middle;\n",
              "    }\n",
              "\n",
              "    .dataframe tbody tr th {\n",
              "        vertical-align: top;\n",
              "    }\n",
              "\n",
              "    .dataframe thead th {\n",
              "        text-align: right;\n",
              "    }\n",
              "</style>\n",
              "<table border=\"1\" class=\"dataframe\">\n",
              "  <thead>\n",
              "    <tr style=\"text-align: right;\">\n",
              "      <th></th>\n",
              "      <th>index</th>\n",
              "      <th>EnterpriseID</th>\n",
              "      <th>LAST</th>\n",
              "      <th>FIRST</th>\n",
              "      <th>MIDDLE</th>\n",
              "      <th>SUFFIX</th>\n",
              "      <th>DOB</th>\n",
              "      <th>GENDER</th>\n",
              "      <th>SSN</th>\n",
              "      <th>ADDRESS1</th>\n",
              "      <th>ADDRESS2</th>\n",
              "      <th>ZIP</th>\n",
              "      <th>MOTHERS_MAIDEN_NAME</th>\n",
              "      <th>MRN</th>\n",
              "      <th>CITY</th>\n",
              "      <th>STATE</th>\n",
              "      <th>PHONE</th>\n",
              "      <th>PHONE2</th>\n",
              "      <th>EMAIL</th>\n",
              "      <th>ALIAS</th>\n",
              "    </tr>\n",
              "  </thead>\n",
              "  <tbody>\n",
              "    <tr>\n",
              "      <th>0</th>\n",
              "      <td>0</td>\n",
              "      <td>14065387</td>\n",
              "      <td>AABERG</td>\n",
              "      <td>KATHERINE</td>\n",
              "      <td>NaN</td>\n",
              "      <td>NaN</td>\n",
              "      <td>8476.00000</td>\n",
              "      <td>FEMALE</td>\n",
              "      <td>892-39-5115</td>\n",
              "      <td>1414 HAZEN ST</td>\n",
              "      <td>NaN</td>\n",
              "      <td>11370</td>\n",
              "      <td>NaN</td>\n",
              "      <td>nan</td>\n",
              "      <td>FLUSHING</td>\n",
              "      <td>NY</td>\n",
              "      <td>347-984-6839</td>\n",
              "      <td>NaN</td>\n",
              "      <td>NaN</td>\n",
              "      <td>NaN</td>\n",
              "    </tr>\n",
              "    <tr>\n",
              "      <th>1</th>\n",
              "      <td>1</td>\n",
              "      <td>12847713</td>\n",
              "      <td>AABY</td>\n",
              "      <td>PATSY</td>\n",
              "      <td>NaN</td>\n",
              "      <td>NaN</td>\n",
              "      <td>12222.00000</td>\n",
              "      <td>FEMALE</td>\n",
              "      <td>NaN</td>\n",
              "      <td>1621 UN ST</td>\n",
              "      <td>1E</td>\n",
              "      <td>11213</td>\n",
              "      <td>NaN</td>\n",
              "      <td>4723376.00000</td>\n",
              "      <td>BROOKLYN</td>\n",
              "      <td>NY</td>\n",
              "      <td>917-130-8285</td>\n",
              "      <td>NaN</td>\n",
              "      <td>NaN</td>\n",
              "      <td>NaN</td>\n",
              "    </tr>\n",
              "    <tr>\n",
              "      <th>2</th>\n",
              "      <td>2</td>\n",
              "      <td>12263824</td>\n",
              "      <td>AACANC</td>\n",
              "      <td>NaN</td>\n",
              "      <td>NaN</td>\n",
              "      <td>NaN</td>\n",
              "      <td>31887.00000</td>\n",
              "      <td>MALE</td>\n",
              "      <td>843-26-7213</td>\n",
              "      <td>9427 KINGS HWY</td>\n",
              "      <td>6F</td>\n",
              "      <td>11223</td>\n",
              "      <td>NaN</td>\n",
              "      <td>nan</td>\n",
              "      <td>BROOKLYN</td>\n",
              "      <td>NY</td>\n",
              "      <td>201-531-2857</td>\n",
              "      <td>NaN</td>\n",
              "      <td>NaN</td>\n",
              "      <td>AACANC</td>\n",
              "    </tr>\n",
              "    <tr>\n",
              "      <th>3</th>\n",
              "      <td>3</td>\n",
              "      <td>14781139</td>\n",
              "      <td>AADAHLGEBERT</td>\n",
              "      <td>ARLEEN</td>\n",
              "      <td>NaN</td>\n",
              "      <td>NaN</td>\n",
              "      <td>16007.00000</td>\n",
              "      <td>FEMALE</td>\n",
              "      <td>NaN</td>\n",
              "      <td>620 TRINITY AVE</td>\n",
              "      <td>D16</td>\n",
              "      <td>10455</td>\n",
              "      <td>NaN</td>\n",
              "      <td>nan</td>\n",
              "      <td>BRONX</td>\n",
              "      <td>NY</td>\n",
              "      <td>732-950-2944</td>\n",
              "      <td>NaN</td>\n",
              "      <td>AAADAHLGEBERT@AMGGT.COM</td>\n",
              "      <td>NaN</td>\n",
              "    </tr>\n",
              "    <tr>\n",
              "      <th>4</th>\n",
              "      <td>4</td>\n",
              "      <td>15616535</td>\n",
              "      <td>AADDAT</td>\n",
              "      <td>PIERCE</td>\n",
              "      <td>RALPH</td>\n",
              "      <td>NaN</td>\n",
              "      <td>14730.00000</td>\n",
              "      <td>M</td>\n",
              "      <td>NaN</td>\n",
              "      <td>1155 MORRISON AVENUE</td>\n",
              "      <td>1E</td>\n",
              "      <td>10472</td>\n",
              "      <td>NaN</td>\n",
              "      <td>4859518.00000</td>\n",
              "      <td>BRONX</td>\n",
              "      <td>NY</td>\n",
              "      <td>NaN</td>\n",
              "      <td>NaN</td>\n",
              "      <td>NaN</td>\n",
              "      <td>PIERCE RALPH AADDAT</td>\n",
              "    </tr>\n",
              "  </tbody>\n",
              "</table>\n",
              "</div>"
            ],
            "text/plain": [
              "   index  EnterpriseID  ...                    EMAIL                ALIAS\n",
              "0      0      14065387  ...                      NaN                  NaN\n",
              "1      1      12847713  ...                      NaN                  NaN\n",
              "2      2      12263824  ...                      NaN               AACANC\n",
              "3      3      14781139  ...  AAADAHLGEBERT@AMGGT.COM                  NaN\n",
              "4      4      15616535  ...                      NaN  PIERCE RALPH AADDAT\n",
              "\n",
              "[5 rows x 20 columns]"
            ]
          },
          "metadata": {
            "tags": []
          },
          "execution_count": 46
        }
      ]
    },
    {
      "cell_type": "markdown",
      "metadata": {
        "id": "9bGYqZKlnLCZ",
        "colab_type": "text"
      },
      "source": [
        "# EDA"
      ]
    },
    {
      "cell_type": "code",
      "metadata": {
        "id": "fcJclmt5LX19",
        "colab_type": "code",
        "colab": {
          "base_uri": "https://localhost:8080/",
          "height": 382
        },
        "outputId": "4893cbd9-75ed-4c85-9ea4-bbd464b70ea2"
      },
      "source": [
        "data.isnull().sum()"
      ],
      "execution_count": 47,
      "outputs": [
        {
          "output_type": "execute_result",
          "data": {
            "text/plain": [
              "index                       0\n",
              "EnterpriseID                0\n",
              "LAST                    33257\n",
              "FIRST                   33884\n",
              "MIDDLE                 617710\n",
              "SUFFIX                 990953\n",
              "DOB                     16463\n",
              "GENDER                  10059\n",
              "SSN                    244606\n",
              "ADDRESS1                68653\n",
              "ADDRESS2               309639\n",
              "ZIP                     71607\n",
              "MOTHERS_MAIDEN_NAME    950828\n",
              "MRN                    536958\n",
              "CITY                    72716\n",
              "STATE                   73687\n",
              "PHONE                   21876\n",
              "PHONE2                 853670\n",
              "EMAIL                  764149\n",
              "ALIAS                  945867\n",
              "dtype: int64"
            ]
          },
          "metadata": {
            "tags": []
          },
          "execution_count": 47
        }
      ]
    },
    {
      "cell_type": "code",
      "metadata": {
        "id": "QDH4FGqbg2OI",
        "colab_type": "code",
        "colab": {
          "base_uri": "https://localhost:8080/",
          "height": 382
        },
        "outputId": "dc20078a-ea88-4eed-ec56-3ba591aa9fb3"
      },
      "source": [
        "data.apply(lambda x: x.duplicated(keep=False).sum())"
      ],
      "execution_count": 48,
      "outputs": [
        {
          "output_type": "execute_result",
          "data": {
            "text/plain": [
              "index                   937848\n",
              "EnterpriseID                 0\n",
              "LAST                    900850\n",
              "FIRST                   965219\n",
              "MIDDLE                  994009\n",
              "SUFFIX                 1000000\n",
              "DOB                     999775\n",
              "GENDER                 1000000\n",
              "SSN                     896583\n",
              "ADDRESS1                763680\n",
              "ADDRESS2                995037\n",
              "ZIP                     992900\n",
              "MOTHERS_MAIDEN_NAME     984911\n",
              "MRN                     536958\n",
              "CITY                    997836\n",
              "STATE                   999986\n",
              "PHONE                    82562\n",
              "PHONE2                  898715\n",
              "EMAIL                   894009\n",
              "ALIAS                   960264\n",
              "dtype: int64"
            ]
          },
          "metadata": {
            "tags": []
          },
          "execution_count": 48
        }
      ]
    },
    {
      "cell_type": "markdown",
      "metadata": {
        "id": "dd9zqCqBg5Zx",
        "colab_type": "text"
      },
      "source": [
        "# Data Cleaning\n",
        "\n",
        "-\tGender is available for 99% records\n",
        "-\tAge: Data consists of at least 100k records for each age group with slightly lower data for the age group of 80-100-year-old.\n",
        "-\tSuffix: The most common suffixes are: II, Sr, Jr. However, not a lot of records have suffixes\n",
        "-\tName and Last Name are available for almost all records, but we checked if there were any special characters in these fields.\n",
        "-\tZIP: The entries were of varying lengths. Upon closer inspection we found that 2 character entries were State codes, 7 character entries were float, and 12 character ones were phone numbers\n",
        "-\tPhone: 12 character entries had hyphens, some phone numbers were invalid entries such as “1111111111”. 7 Character entries had the area code missing.\n",
        "-\tPhone2: This column was used to capture additional phone numbers, and thus contained entries having up to 3 phone numbers separated by “^^”\n",
        "-\tEmail: Interestingly, all emails were on the same domain, “amggt.com”. A lot of email addresses were invalid with just one character username. Due to poor quality of data, this may not be a useful column.\n",
        "-\tALIAS: This has 95% null values, so we will drop this.\n",
        "-\tState: All entries were 2 character state codes. Some state codes were invalid, such as “zz”. Whereas some were possible typing errors, like “CD” instead of “DC”\n",
        "-\tCity: City names were available for all addresses however we noticed spelling errors. We may need to correct spellings in order to use this column effectively.\n",
        "-\tAddress1: This was available for all records and contains the street address\n",
        "-\tAddress2: Contained house number. There is no way to correct any typing errors and will be taken at face value\n",
        "-\tEnterprise ID: This was a unique ID assigned to each record and there are no duplicates.\n",
        "-\tSSN: It was available for 75% users. However, there are some duplicates\n",
        "-\tMRN: Medical record number was assigned to users, it was supposed to be unique, however, we needed to verify that.\n"
      ]
    },
    {
      "cell_type": "markdown",
      "metadata": {
        "id": "zMQlnDnM0nYg",
        "colab_type": "text"
      },
      "source": [
        "## FIRST, LAST & MOTHER'S NAME"
      ]
    },
    {
      "cell_type": "code",
      "metadata": {
        "id": "GFLAQFp9z07w",
        "colab_type": "code",
        "colab": {
          "base_uri": "https://localhost:8080/",
          "height": 69
        },
        "outputId": "6a128d20-2f19-4762-c135-5ec8a0a81ef0"
      },
      "source": [
        "import re \n",
        "string_check= re.compile('[@_!#$%^&*()<>?/\\|}{~:]') # Cheking for special characters\n",
        "data[data['FIRST'].str.contains(string_check,na=False)]\n",
        "data[data['LAST'].str.contains(string_check,na=False)]\n",
        "data[data['MOTHERS_MAIDEN_NAME'].str.contains(string_check,na=False)]"
      ],
      "execution_count": 49,
      "outputs": [
        {
          "output_type": "execute_result",
          "data": {
            "text/html": [
              "<div>\n",
              "<style scoped>\n",
              "    .dataframe tbody tr th:only-of-type {\n",
              "        vertical-align: middle;\n",
              "    }\n",
              "\n",
              "    .dataframe tbody tr th {\n",
              "        vertical-align: top;\n",
              "    }\n",
              "\n",
              "    .dataframe thead th {\n",
              "        text-align: right;\n",
              "    }\n",
              "</style>\n",
              "<table border=\"1\" class=\"dataframe\">\n",
              "  <thead>\n",
              "    <tr style=\"text-align: right;\">\n",
              "      <th></th>\n",
              "      <th>index</th>\n",
              "      <th>EnterpriseID</th>\n",
              "      <th>LAST</th>\n",
              "      <th>FIRST</th>\n",
              "      <th>MIDDLE</th>\n",
              "      <th>SUFFIX</th>\n",
              "      <th>DOB</th>\n",
              "      <th>GENDER</th>\n",
              "      <th>SSN</th>\n",
              "      <th>ADDRESS1</th>\n",
              "      <th>ADDRESS2</th>\n",
              "      <th>ZIP</th>\n",
              "      <th>MOTHERS_MAIDEN_NAME</th>\n",
              "      <th>MRN</th>\n",
              "      <th>CITY</th>\n",
              "      <th>STATE</th>\n",
              "      <th>PHONE</th>\n",
              "      <th>PHONE2</th>\n",
              "      <th>EMAIL</th>\n",
              "      <th>ALIAS</th>\n",
              "    </tr>\n",
              "  </thead>\n",
              "  <tbody>\n",
              "  </tbody>\n",
              "</table>\n",
              "</div>"
            ],
            "text/plain": [
              "Empty DataFrame\n",
              "Columns: [index, EnterpriseID, LAST, FIRST, MIDDLE, SUFFIX, DOB, GENDER, SSN, ADDRESS1, ADDRESS2, ZIP, MOTHERS_MAIDEN_NAME, MRN, CITY, STATE, PHONE, PHONE2, EMAIL, ALIAS]\n",
              "Index: []"
            ]
          },
          "metadata": {
            "tags": []
          },
          "execution_count": 49
        }
      ]
    },
    {
      "cell_type": "markdown",
      "metadata": {
        "id": "FN-65G-u0bfI",
        "colab_type": "text"
      },
      "source": [
        "## SUFFIX\n",
        "\n"
      ]
    },
    {
      "cell_type": "code",
      "metadata": {
        "id": "v1MSjn0zg2Z2",
        "colab_type": "code",
        "colab": {}
      },
      "source": [
        "#Suffix\n",
        "#data.groupby(by='SUFFIX').size()   # length 3 = NaN\n",
        "data[\"SUFFIX\"].replace(\"JR.\" , 'JR', inplace = True)\n",
        "data[\"SUFFIX\"].replace(\"SR.\" , 'SR', inplace = True)"
      ],
      "execution_count": 50,
      "outputs": []
    },
    {
      "cell_type": "markdown",
      "metadata": {
        "id": "Rh6N23ZE05lN",
        "colab_type": "text"
      },
      "source": [
        "## GENDER\n",
        "\n"
      ]
    },
    {
      "cell_type": "code",
      "metadata": {
        "id": "UwclXMkv0Fou",
        "colab_type": "code",
        "colab": {}
      },
      "source": [
        "# GENDER\n",
        "# 5 different values: M,F, MALE, FEMALE, U; reducing them to 3 (M,F,U)\n",
        "\n",
        "#data.groupby(by='GENDER').size()\n",
        "data[\"GENDER\"].replace(\"MALE\" , 'M', inplace = True)\n",
        "data[\"GENDER\"].replace(\"FEMALE\" , 'F', inplace = True)\n",
        "\n",
        "# ideas to explore: less weight for gender if Unknown or maybe figuring out gender by name"
      ],
      "execution_count": 51,
      "outputs": []
    },
    {
      "cell_type": "markdown",
      "metadata": {
        "id": "fMNM0Zn7kcvy",
        "colab_type": "text"
      },
      "source": [
        "## ZIP"
      ]
    },
    {
      "cell_type": "code",
      "metadata": {
        "id": "wm4qPsB1y0OB",
        "colab_type": "code",
        "colab": {}
      },
      "source": [
        "# to remove scientific notation:\n",
        "pd.set_option('display.float_format', lambda x: '%.5f' % x)\n",
        "# to reset:\n",
        "#pd.reset_option('display.float_format')"
      ],
      "execution_count": 52,
      "outputs": []
    },
    {
      "cell_type": "code",
      "metadata": {
        "id": "iX24ZXW4jwU7",
        "colab_type": "code",
        "colab": {
          "base_uri": "https://localhost:8080/",
          "height": 34
        },
        "outputId": "a4f79e4c-c3ff-461b-94b2-2c81a722df58"
      },
      "source": [
        "set(data['ZIP'].astype('str').apply(len))"
      ],
      "execution_count": 53,
      "outputs": [
        {
          "output_type": "execute_result",
          "data": {
            "text/plain": [
              "{1, 2, 3, 4, 5, 6, 7, 8, 9, 10, 11, 12}"
            ]
          },
          "metadata": {
            "tags": []
          },
          "execution_count": 53
        }
      ]
    },
    {
      "cell_type": "code",
      "metadata": {
        "id": "quidm2ookfXz",
        "colab_type": "code",
        "colab": {
          "base_uri": "https://localhost:8080/",
          "height": 424
        },
        "outputId": "1315a9b1-e4d4-4e9f-b60d-e227937d6dc9"
      },
      "source": [
        "data.loc[ (data['ZIP'].astype('str').apply(len) == 7 ),['ZIP'] ]"
      ],
      "execution_count": 54,
      "outputs": [
        {
          "output_type": "execute_result",
          "data": {
            "text/html": [
              "<div>\n",
              "<style scoped>\n",
              "    .dataframe tbody tr th:only-of-type {\n",
              "        vertical-align: middle;\n",
              "    }\n",
              "\n",
              "    .dataframe tbody tr th {\n",
              "        vertical-align: top;\n",
              "    }\n",
              "\n",
              "    .dataframe thead th {\n",
              "        text-align: right;\n",
              "    }\n",
              "</style>\n",
              "<table border=\"1\" class=\"dataframe\">\n",
              "  <thead>\n",
              "    <tr style=\"text-align: right;\">\n",
              "      <th></th>\n",
              "      <th>ZIP</th>\n",
              "    </tr>\n",
              "  </thead>\n",
              "  <tbody>\n",
              "    <tr>\n",
              "      <th>631072</th>\n",
              "      <td>11370.00000</td>\n",
              "    </tr>\n",
              "    <tr>\n",
              "      <th>631073</th>\n",
              "      <td>10452.00000</td>\n",
              "    </tr>\n",
              "    <tr>\n",
              "      <th>631074</th>\n",
              "      <td>11037.00000</td>\n",
              "    </tr>\n",
              "    <tr>\n",
              "      <th>631075</th>\n",
              "      <td>11717.00000</td>\n",
              "    </tr>\n",
              "    <tr>\n",
              "      <th>631076</th>\n",
              "      <td>10451.00000</td>\n",
              "    </tr>\n",
              "    <tr>\n",
              "      <th>...</th>\n",
              "      <td>...</td>\n",
              "    </tr>\n",
              "    <tr>\n",
              "      <th>999995</th>\n",
              "      <td>11205.00000</td>\n",
              "    </tr>\n",
              "    <tr>\n",
              "      <th>999996</th>\n",
              "      <td>11725.00000</td>\n",
              "    </tr>\n",
              "    <tr>\n",
              "      <th>999997</th>\n",
              "      <td>11780.00000</td>\n",
              "    </tr>\n",
              "    <tr>\n",
              "      <th>999998</th>\n",
              "      <td>10452.00000</td>\n",
              "    </tr>\n",
              "    <tr>\n",
              "      <th>999999</th>\n",
              "      <td>10452.00000</td>\n",
              "    </tr>\n",
              "  </tbody>\n",
              "</table>\n",
              "<p>3428 rows × 1 columns</p>\n",
              "</div>"
            ],
            "text/plain": [
              "               ZIP\n",
              "631072 11370.00000\n",
              "631073 10452.00000\n",
              "631074 11037.00000\n",
              "631075 11717.00000\n",
              "631076 10451.00000\n",
              "...            ...\n",
              "999995 11205.00000\n",
              "999996 11725.00000\n",
              "999997 11780.00000\n",
              "999998 10452.00000\n",
              "999999 10452.00000\n",
              "\n",
              "[3428 rows x 1 columns]"
            ]
          },
          "metadata": {
            "tags": []
          },
          "execution_count": 54
        }
      ]
    },
    {
      "cell_type": "code",
      "metadata": {
        "id": "8cU0BtFcnFOp",
        "colab_type": "code",
        "colab": {}
      },
      "source": [
        "# 12 character zip codes seem to be phone numbers with hyphens\n",
        "\n",
        "data['PHONE_ZIP'] = data.loc[ (data['ZIP'].astype('str').apply(len) == 12 ) , ['ZIP'] ]\n",
        "data['PHONE_ZIP'] = data['PHONE_ZIP'].str.replace(r'[^0-9]+', '')"
      ],
      "execution_count": 55,
      "outputs": []
    },
    {
      "cell_type": "code",
      "metadata": {
        "id": "LkWtsiNukiIT",
        "colab_type": "code",
        "colab": {}
      },
      "source": [
        "# Keeping zipcodes that can be cleaned up and nullifying all others\n",
        "data.loc[ (data['ZIP'].astype('str').apply(len) != 7 ) & \n",
        "         (data['ZIP'].astype('str').apply(len) != 9 ) & \n",
        "         (data['ZIP'].astype('str').apply(len) != 10 ) & \n",
        "         (data['ZIP'].astype('str').apply(len) != 11 ) & \n",
        "         (data['ZIP'].astype('str').apply(len) != 5 ),\n",
        "         ['ZIP'] ] = np.nan\n",
        "\n",
        "# 7 digit zip codes are 5 digit zip codes but with a decimal place. Convert to int.\n",
        "data.loc[ (data['ZIP'].astype('str').apply(len) == 7 ),['ZIP'] ] = \\\n",
        "data.loc[ (data['ZIP'].astype('str').apply(len) == 7 ),['ZIP'] ].astype('int')\n",
        "\n",
        "# 9, 10, 11 digit zip codes seem to have an extension which can be trimmed out \n",
        "# by taking 5 characters from left after converting to int\n",
        "data.loc[ (data['ZIP'].astype('str').apply(len) == 9 ) | \n",
        "         (data['ZIP'].astype('str').apply(len) == 10 ) | \n",
        "         (data['ZIP'].astype('str').apply(len) == 11 ) ,\n",
        "         ['ZIP'] ] = data.loc[ (data['ZIP'].astype('str').apply(len) == 9 ) | \n",
        "         (data['ZIP'].astype('str').apply(len) == 10 ) | \n",
        "         (data['ZIP'].astype('str').apply(len) == 11 ) ,\n",
        "         ['ZIP'] ].apply(lambda x: str(x[0])[0:5],axis=1)\n",
        "\n",
        "# Define column dtype\n",
        "data.loc[:,'ZIP'] = data.loc[:,'ZIP'].astype('str')"
      ],
      "execution_count": 56,
      "outputs": []
    },
    {
      "cell_type": "markdown",
      "metadata": {
        "id": "U_6n7fSm2_L2",
        "colab_type": "text"
      },
      "source": [
        "## PHONE"
      ]
    },
    {
      "cell_type": "code",
      "metadata": {
        "id": "S8NpPP9q3CMD",
        "colab_type": "code",
        "colab": {
          "base_uri": "https://localhost:8080/",
          "height": 34
        },
        "outputId": "0e1bc26b-9b8f-4c4d-8fad-33bed3dc210b"
      },
      "source": [
        "set(data['PHONE'].dropna().apply(len))"
      ],
      "execution_count": 57,
      "outputs": [
        {
          "output_type": "execute_result",
          "data": {
            "text/plain": [
              "{1, 8, 10, 12}"
            ]
          },
          "metadata": {
            "tags": []
          },
          "execution_count": 57
        }
      ]
    },
    {
      "cell_type": "code",
      "metadata": {
        "id": "RSID1fO-vLLJ",
        "colab_type": "code",
        "colab": {}
      },
      "source": [
        "# Remove hyphens\n",
        "data['PHONE'] = data['PHONE'].replace(\"-\",\"\",regex=True)"
      ],
      "execution_count": 58,
      "outputs": []
    },
    {
      "cell_type": "code",
      "metadata": {
        "id": "DrR8EXU8tk6e",
        "colab_type": "code",
        "colab": {
          "base_uri": "https://localhost:8080/",
          "height": 34
        },
        "outputId": "bade1177-cc79-411a-939a-91cd3c0b0df0"
      },
      "source": [
        "set(data['PHONE'].dropna().apply(len))"
      ],
      "execution_count": 59,
      "outputs": [
        {
          "output_type": "execute_result",
          "data": {
            "text/plain": [
              "{1, 7, 10}"
            ]
          },
          "metadata": {
            "tags": []
          },
          "execution_count": 59
        }
      ]
    },
    {
      "cell_type": "code",
      "metadata": {
        "id": "RNUpp2WW3MNE",
        "colab_type": "code",
        "colab": {
          "base_uri": "https://localhost:8080/",
          "height": 426
        },
        "outputId": "27d3c140-c275-44ca-ba46-a803969ca7a1"
      },
      "source": [
        "data.loc[data['PHONE'].astype('str').apply(len)==7,['PHONE']]"
      ],
      "execution_count": 60,
      "outputs": [
        {
          "output_type": "execute_result",
          "data": {
            "text/html": [
              "<div>\n",
              "<style scoped>\n",
              "    .dataframe tbody tr th:only-of-type {\n",
              "        vertical-align: middle;\n",
              "    }\n",
              "\n",
              "    .dataframe tbody tr th {\n",
              "        vertical-align: top;\n",
              "    }\n",
              "\n",
              "    .dataframe thead th {\n",
              "        text-align: right;\n",
              "    }\n",
              "</style>\n",
              "<table border=\"1\" class=\"dataframe\">\n",
              "  <thead>\n",
              "    <tr style=\"text-align: right;\">\n",
              "      <th></th>\n",
              "      <th>PHONE</th>\n",
              "    </tr>\n",
              "  </thead>\n",
              "  <tbody>\n",
              "    <tr>\n",
              "      <th>162981</th>\n",
              "      <td>8963452</td>\n",
              "    </tr>\n",
              "    <tr>\n",
              "      <th>412054</th>\n",
              "      <td>1111111</td>\n",
              "    </tr>\n",
              "    <tr>\n",
              "      <th>412055</th>\n",
              "      <td>1111111</td>\n",
              "    </tr>\n",
              "    <tr>\n",
              "      <th>637077</th>\n",
              "      <td>8963452</td>\n",
              "    </tr>\n",
              "    <tr>\n",
              "      <th>660312</th>\n",
              "      <td>7759582</td>\n",
              "    </tr>\n",
              "    <tr>\n",
              "      <th>660313</th>\n",
              "      <td>3456544</td>\n",
              "    </tr>\n",
              "    <tr>\n",
              "      <th>660314</th>\n",
              "      <td>3586357</td>\n",
              "    </tr>\n",
              "    <tr>\n",
              "      <th>660316</th>\n",
              "      <td>7759582</td>\n",
              "    </tr>\n",
              "    <tr>\n",
              "      <th>660321</th>\n",
              "      <td>3586357</td>\n",
              "    </tr>\n",
              "    <tr>\n",
              "      <th>660322</th>\n",
              "      <td>3456544</td>\n",
              "    </tr>\n",
              "    <tr>\n",
              "      <th>691928</th>\n",
              "      <td>3689521</td>\n",
              "    </tr>\n",
              "    <tr>\n",
              "      <th>885360</th>\n",
              "      <td>3689521</td>\n",
              "    </tr>\n",
              "  </tbody>\n",
              "</table>\n",
              "</div>"
            ],
            "text/plain": [
              "          PHONE\n",
              "162981  8963452\n",
              "412054  1111111\n",
              "412055  1111111\n",
              "637077  8963452\n",
              "660312  7759582\n",
              "660313  3456544\n",
              "660314  3586357\n",
              "660316  7759582\n",
              "660321  3586357\n",
              "660322  3456544\n",
              "691928  3689521\n",
              "885360  3689521"
            ]
          },
          "metadata": {
            "tags": []
          },
          "execution_count": 60
        }
      ]
    },
    {
      "cell_type": "code",
      "metadata": {
        "id": "1C9JR5HDusRQ",
        "colab_type": "code",
        "colab": {}
      },
      "source": [
        "# Setting 1 numbers to nulls and retaining 7 digit numbers as they may be valid numbers without area code.\n",
        "\n",
        "data.loc[data['PHONE'].astype('str').apply(len)==1,['PHONE']] = np.nan"
      ],
      "execution_count": 61,
      "outputs": []
    },
    {
      "cell_type": "code",
      "metadata": {
        "id": "vma00q57tOG1",
        "colab_type": "code",
        "colab": {}
      },
      "source": [
        "data['PHONE'] = data['PHONE'].str.replace(r'[^0-9]+', '')"
      ],
      "execution_count": 62,
      "outputs": []
    },
    {
      "cell_type": "markdown",
      "metadata": {
        "id": "4NrJQ3f2w0jg",
        "colab_type": "text"
      },
      "source": [
        "## PHONE2"
      ]
    },
    {
      "cell_type": "code",
      "metadata": {
        "id": "lzcFwfcbmilM",
        "colab_type": "code",
        "colab": {
          "base_uri": "https://localhost:8080/",
          "height": 34
        },
        "outputId": "b1df9169-6c12-40c5-c269-c6a9267cbc21"
      },
      "source": [
        "set(data['PHONE2'].dropna().apply(len))"
      ],
      "execution_count": 63,
      "outputs": [
        {
          "output_type": "execute_result",
          "data": {
            "text/plain": [
              "{12, 26, 40}"
            ]
          },
          "metadata": {
            "tags": []
          },
          "execution_count": 63
        }
      ]
    },
    {
      "cell_type": "code",
      "metadata": {
        "id": "_WNGZKL6yYt4",
        "colab_type": "code",
        "colab": {
          "base_uri": "https://localhost:8080/",
          "height": 34
        },
        "outputId": "aa86b9e3-994d-476d-ecca-58478b1ca1ef"
      },
      "source": [
        "sum(data['PHONE2'].dropna().apply(len)>12)"
      ],
      "execution_count": 64,
      "outputs": [
        {
          "output_type": "execute_result",
          "data": {
            "text/plain": [
              "6205"
            ]
          },
          "metadata": {
            "tags": []
          },
          "execution_count": 64
        }
      ]
    },
    {
      "cell_type": "code",
      "metadata": {
        "id": "2y6PnRQ0y03r",
        "colab_type": "code",
        "colab": {}
      },
      "source": [
        "data[['PHONE2a','PHONE2b','PHONE2c']] = data['PHONE2'][data['PHONE2'].astype('str').apply(len)>12].str.split('\\^{2}', expand=True) # '^^' canot be passed into split because the method runs on regex where ^^ has a different meaning."
      ],
      "execution_count": 65,
      "outputs": []
    },
    {
      "cell_type": "code",
      "metadata": {
        "id": "SyoM4eiISgPO",
        "colab_type": "code",
        "colab": {
          "base_uri": "https://localhost:8080/",
          "height": 34
        },
        "outputId": "eb915a88-b200-4061-9277-c501b84e6b36"
      },
      "source": [
        "set(data['PHONE2a'].dropna().astype('str').apply(len))"
      ],
      "execution_count": 66,
      "outputs": [
        {
          "output_type": "execute_result",
          "data": {
            "text/plain": [
              "{12}"
            ]
          },
          "metadata": {
            "tags": []
          },
          "execution_count": 66
        }
      ]
    },
    {
      "cell_type": "code",
      "metadata": {
        "id": "1ynaypcuTA5B",
        "colab_type": "code",
        "colab": {
          "base_uri": "https://localhost:8080/",
          "height": 269
        },
        "outputId": "c2108616-6f6f-486c-8b8f-f0c1c5215298"
      },
      "source": [
        "data[['PHONE2c']][data['PHONE2c'].notna()]"
      ],
      "execution_count": 67,
      "outputs": [
        {
          "output_type": "execute_result",
          "data": {
            "text/html": [
              "<div>\n",
              "<style scoped>\n",
              "    .dataframe tbody tr th:only-of-type {\n",
              "        vertical-align: middle;\n",
              "    }\n",
              "\n",
              "    .dataframe tbody tr th {\n",
              "        vertical-align: top;\n",
              "    }\n",
              "\n",
              "    .dataframe thead th {\n",
              "        text-align: right;\n",
              "    }\n",
              "</style>\n",
              "<table border=\"1\" class=\"dataframe\">\n",
              "  <thead>\n",
              "    <tr style=\"text-align: right;\">\n",
              "      <th></th>\n",
              "      <th>PHONE2c</th>\n",
              "    </tr>\n",
              "  </thead>\n",
              "  <tbody>\n",
              "    <tr>\n",
              "      <th>96818</th>\n",
              "      <td>848-210-5397</td>\n",
              "    </tr>\n",
              "    <tr>\n",
              "      <th>170586</th>\n",
              "      <td>862-945-2928</td>\n",
              "    </tr>\n",
              "    <tr>\n",
              "      <th>441732</th>\n",
              "      <td>860-316-3987</td>\n",
              "    </tr>\n",
              "    <tr>\n",
              "      <th>518864</th>\n",
              "      <td>267-495-4061</td>\n",
              "    </tr>\n",
              "    <tr>\n",
              "      <th>603005</th>\n",
              "      <td>848-212-6310</td>\n",
              "    </tr>\n",
              "    <tr>\n",
              "      <th>789300</th>\n",
              "      <td>551-144-9669</td>\n",
              "    </tr>\n",
              "    <tr>\n",
              "      <th>873843</th>\n",
              "      <td>732-637-2207</td>\n",
              "    </tr>\n",
              "  </tbody>\n",
              "</table>\n",
              "</div>"
            ],
            "text/plain": [
              "             PHONE2c\n",
              "96818   848-210-5397\n",
              "170586  862-945-2928\n",
              "441732  860-316-3987\n",
              "518864  267-495-4061\n",
              "603005  848-212-6310\n",
              "789300  551-144-9669\n",
              "873843  732-637-2207"
            ]
          },
          "metadata": {
            "tags": []
          },
          "execution_count": 67
        }
      ]
    },
    {
      "cell_type": "code",
      "metadata": {
        "id": "p7ATJg1LU79P",
        "colab_type": "code",
        "colab": {
          "base_uri": "https://localhost:8080/",
          "height": 206
        },
        "outputId": "da46a064-9cac-4b4c-a888-c25b6fde96e0"
      },
      "source": [
        "data['PHONE2a'] = data['PHONE2a'].str.replace(r'[^0-9]+', '')\n",
        "data['PHONE2b'] = data['PHONE2b'].str.replace(r'[^0-9]+', '')\n",
        "data['PHONE2c'] = data['PHONE2c'].str.replace(r'[^0-9]+', '')\n",
        "\n",
        "data[['PHONE2c']][data['PHONE2c'].notna()].head()"
      ],
      "execution_count": 68,
      "outputs": [
        {
          "output_type": "execute_result",
          "data": {
            "text/html": [
              "<div>\n",
              "<style scoped>\n",
              "    .dataframe tbody tr th:only-of-type {\n",
              "        vertical-align: middle;\n",
              "    }\n",
              "\n",
              "    .dataframe tbody tr th {\n",
              "        vertical-align: top;\n",
              "    }\n",
              "\n",
              "    .dataframe thead th {\n",
              "        text-align: right;\n",
              "    }\n",
              "</style>\n",
              "<table border=\"1\" class=\"dataframe\">\n",
              "  <thead>\n",
              "    <tr style=\"text-align: right;\">\n",
              "      <th></th>\n",
              "      <th>PHONE2c</th>\n",
              "    </tr>\n",
              "  </thead>\n",
              "  <tbody>\n",
              "    <tr>\n",
              "      <th>96818</th>\n",
              "      <td>8482105397</td>\n",
              "    </tr>\n",
              "    <tr>\n",
              "      <th>170586</th>\n",
              "      <td>8629452928</td>\n",
              "    </tr>\n",
              "    <tr>\n",
              "      <th>441732</th>\n",
              "      <td>8603163987</td>\n",
              "    </tr>\n",
              "    <tr>\n",
              "      <th>518864</th>\n",
              "      <td>2674954061</td>\n",
              "    </tr>\n",
              "    <tr>\n",
              "      <th>603005</th>\n",
              "      <td>8482126310</td>\n",
              "    </tr>\n",
              "  </tbody>\n",
              "</table>\n",
              "</div>"
            ],
            "text/plain": [
              "           PHONE2c\n",
              "96818   8482105397\n",
              "170586  8629452928\n",
              "441732  8603163987\n",
              "518864  2674954061\n",
              "603005  8482126310"
            ]
          },
          "metadata": {
            "tags": []
          },
          "execution_count": 68
        }
      ]
    },
    {
      "cell_type": "markdown",
      "metadata": {
        "id": "MhctPycrmosl",
        "colab_type": "text"
      },
      "source": [
        "## EMAIL "
      ]
    },
    {
      "cell_type": "code",
      "metadata": {
        "id": "Ta3fYF69lGE3",
        "colab_type": "code",
        "colab": {
          "base_uri": "https://localhost:8080/",
          "height": 34
        },
        "outputId": "84701482-2b67-47fc-ccaf-4cc2b971c9c9"
      },
      "source": [
        "data.EMAIL.count()"
      ],
      "execution_count": 69,
      "outputs": [
        {
          "output_type": "execute_result",
          "data": {
            "text/plain": [
              "235851"
            ]
          },
          "metadata": {
            "tags": []
          },
          "execution_count": 69
        }
      ]
    },
    {
      "cell_type": "code",
      "metadata": {
        "id": "IK9U48zQiH71",
        "colab_type": "code",
        "colab": {
          "base_uri": "https://localhost:8080/",
          "height": 34
        },
        "outputId": "c856c9a9-01d5-414a-b5f3-ed1cd36d10ee"
      },
      "source": [
        "data.EMAIL.str.endswith(\"AMGGT.COM\").sum()"
      ],
      "execution_count": 70,
      "outputs": [
        {
          "output_type": "execute_result",
          "data": {
            "text/plain": [
              "235851"
            ]
          },
          "metadata": {
            "tags": []
          },
          "execution_count": 70
        }
      ]
    },
    {
      "cell_type": "code",
      "metadata": {
        "id": "CFJ5ZEqAa9ol",
        "colab_type": "code",
        "colab": {}
      },
      "source": [
        "data['eid'] = data.EnterpriseID\n",
        "e = data[['EMAIL','eid']].groupby('EMAIL').count()"
      ],
      "execution_count": 71,
      "outputs": []
    },
    {
      "cell_type": "code",
      "metadata": {
        "id": "pkHv5_CLtgjD",
        "colab_type": "code",
        "colab": {
          "base_uri": "https://localhost:8080/",
          "height": 455
        },
        "outputId": "b21eb132-49db-42d6-9932-e37b51846b03"
      },
      "source": [
        "e[[e>1][0]['eid']].sort_values(by='eid', ascending=False)"
      ],
      "execution_count": 72,
      "outputs": [
        {
          "output_type": "execute_result",
          "data": {
            "text/html": [
              "<div>\n",
              "<style scoped>\n",
              "    .dataframe tbody tr th:only-of-type {\n",
              "        vertical-align: middle;\n",
              "    }\n",
              "\n",
              "    .dataframe tbody tr th {\n",
              "        vertical-align: top;\n",
              "    }\n",
              "\n",
              "    .dataframe thead th {\n",
              "        text-align: right;\n",
              "    }\n",
              "</style>\n",
              "<table border=\"1\" class=\"dataframe\">\n",
              "  <thead>\n",
              "    <tr style=\"text-align: right;\">\n",
              "      <th></th>\n",
              "      <th>eid</th>\n",
              "    </tr>\n",
              "    <tr>\n",
              "      <th>EMAIL</th>\n",
              "      <th></th>\n",
              "    </tr>\n",
              "  </thead>\n",
              "  <tbody>\n",
              "    <tr>\n",
              "      <th>M@AMGGT.COM</th>\n",
              "      <td>1192</td>\n",
              "    </tr>\n",
              "    <tr>\n",
              "      <th>J@AMGGT.COM</th>\n",
              "      <td>938</td>\n",
              "    </tr>\n",
              "    <tr>\n",
              "      <th>A@AMGGT.COM</th>\n",
              "      <td>877</td>\n",
              "    </tr>\n",
              "    <tr>\n",
              "      <th>S@AMGGT.COM</th>\n",
              "      <td>838</td>\n",
              "    </tr>\n",
              "    <tr>\n",
              "      <th>C@AMGGT.COM</th>\n",
              "      <td>809</td>\n",
              "    </tr>\n",
              "    <tr>\n",
              "      <th>...</th>\n",
              "      <td>...</td>\n",
              "    </tr>\n",
              "    <tr>\n",
              "      <th>JGLAZER@AMGGT.COM</th>\n",
              "      <td>2</td>\n",
              "    </tr>\n",
              "    <tr>\n",
              "      <th>JGISOMAR@AMGGT.COM</th>\n",
              "      <td>2</td>\n",
              "    </tr>\n",
              "    <tr>\n",
              "      <th>JGILLEY@AMGGT.COM</th>\n",
              "      <td>2</td>\n",
              "    </tr>\n",
              "    <tr>\n",
              "      <th>JGILLEN@AMGGT.COM</th>\n",
              "      <td>2</td>\n",
              "    </tr>\n",
              "    <tr>\n",
              "      <th>ZYANG@AMGGT.COM</th>\n",
              "      <td>2</td>\n",
              "    </tr>\n",
              "  </tbody>\n",
              "</table>\n",
              "<p>28048 rows × 1 columns</p>\n",
              "</div>"
            ],
            "text/plain": [
              "                     eid\n",
              "EMAIL                   \n",
              "M@AMGGT.COM         1192\n",
              "J@AMGGT.COM          938\n",
              "A@AMGGT.COM          877\n",
              "S@AMGGT.COM          838\n",
              "C@AMGGT.COM          809\n",
              "...                  ...\n",
              "JGLAZER@AMGGT.COM      2\n",
              "JGISOMAR@AMGGT.COM     2\n",
              "JGILLEY@AMGGT.COM      2\n",
              "JGILLEN@AMGGT.COM      2\n",
              "ZYANG@AMGGT.COM        2\n",
              "\n",
              "[28048 rows x 1 columns]"
            ]
          },
          "metadata": {
            "tags": []
          },
          "execution_count": 72
        }
      ]
    },
    {
      "cell_type": "code",
      "metadata": {
        "id": "nduKGwSDfZrt",
        "colab_type": "code",
        "colab": {
          "base_uri": "https://localhost:8080/",
          "height": 250
        },
        "outputId": "af13de93-98da-491b-ce43-d1719cffb056"
      },
      "source": [
        "data.groupby('EMAIL').get_group('AAARON@AMGGT.COM')"
      ],
      "execution_count": 73,
      "outputs": [
        {
          "output_type": "execute_result",
          "data": {
            "text/html": [
              "<div>\n",
              "<style scoped>\n",
              "    .dataframe tbody tr th:only-of-type {\n",
              "        vertical-align: middle;\n",
              "    }\n",
              "\n",
              "    .dataframe tbody tr th {\n",
              "        vertical-align: top;\n",
              "    }\n",
              "\n",
              "    .dataframe thead th {\n",
              "        text-align: right;\n",
              "    }\n",
              "</style>\n",
              "<table border=\"1\" class=\"dataframe\">\n",
              "  <thead>\n",
              "    <tr style=\"text-align: right;\">\n",
              "      <th></th>\n",
              "      <th>index</th>\n",
              "      <th>EnterpriseID</th>\n",
              "      <th>LAST</th>\n",
              "      <th>FIRST</th>\n",
              "      <th>MIDDLE</th>\n",
              "      <th>SUFFIX</th>\n",
              "      <th>DOB</th>\n",
              "      <th>GENDER</th>\n",
              "      <th>SSN</th>\n",
              "      <th>ADDRESS1</th>\n",
              "      <th>ADDRESS2</th>\n",
              "      <th>ZIP</th>\n",
              "      <th>MOTHERS_MAIDEN_NAME</th>\n",
              "      <th>MRN</th>\n",
              "      <th>CITY</th>\n",
              "      <th>STATE</th>\n",
              "      <th>PHONE</th>\n",
              "      <th>PHONE2</th>\n",
              "      <th>EMAIL</th>\n",
              "      <th>ALIAS</th>\n",
              "      <th>PHONE_ZIP</th>\n",
              "      <th>PHONE2a</th>\n",
              "      <th>PHONE2b</th>\n",
              "      <th>PHONE2c</th>\n",
              "      <th>eid</th>\n",
              "    </tr>\n",
              "  </thead>\n",
              "  <tbody>\n",
              "    <tr>\n",
              "      <th>68</th>\n",
              "      <td>68</td>\n",
              "      <td>13771070</td>\n",
              "      <td>AARON</td>\n",
              "      <td>ADI</td>\n",
              "      <td>NaN</td>\n",
              "      <td>NaN</td>\n",
              "      <td>33203.00000</td>\n",
              "      <td>F</td>\n",
              "      <td>NaN</td>\n",
              "      <td>1070 OGDEN AVE</td>\n",
              "      <td>2A</td>\n",
              "      <td>10452</td>\n",
              "      <td>NaN</td>\n",
              "      <td>2600143.00000</td>\n",
              "      <td>BRONX</td>\n",
              "      <td>NY</td>\n",
              "      <td>4841043683</td>\n",
              "      <td>NaN</td>\n",
              "      <td>AAARON@AMGGT.COM</td>\n",
              "      <td>NaN</td>\n",
              "      <td>NaN</td>\n",
              "      <td>NaN</td>\n",
              "      <td>NaN</td>\n",
              "      <td>NaN</td>\n",
              "      <td>13771070</td>\n",
              "    </tr>\n",
              "    <tr>\n",
              "      <th>83</th>\n",
              "      <td>83</td>\n",
              "      <td>14772302</td>\n",
              "      <td>AARON</td>\n",
              "      <td>ALTA</td>\n",
              "      <td>R</td>\n",
              "      <td>NaN</td>\n",
              "      <td>10842.00000</td>\n",
              "      <td>F</td>\n",
              "      <td>NaN</td>\n",
              "      <td>2061 W 4TH ST</td>\n",
              "      <td>1</td>\n",
              "      <td>11223</td>\n",
              "      <td>NaN</td>\n",
              "      <td>4241713.00000</td>\n",
              "      <td>BROOKLYN</td>\n",
              "      <td>NY</td>\n",
              "      <td>8603217374</td>\n",
              "      <td>NaN</td>\n",
              "      <td>AAARON@AMGGT.COM</td>\n",
              "      <td>NaN</td>\n",
              "      <td>NaN</td>\n",
              "      <td>NaN</td>\n",
              "      <td>NaN</td>\n",
              "      <td>NaN</td>\n",
              "      <td>14772302</td>\n",
              "    </tr>\n",
              "    <tr>\n",
              "      <th>95</th>\n",
              "      <td>95</td>\n",
              "      <td>15234184</td>\n",
              "      <td>AARON</td>\n",
              "      <td>AYANA</td>\n",
              "      <td>NaN</td>\n",
              "      <td>NaN</td>\n",
              "      <td>8120.00000</td>\n",
              "      <td>F</td>\n",
              "      <td>860-56-5541</td>\n",
              "      <td>219 HAWTHORNE AVENUE APT 415</td>\n",
              "      <td>NaN</td>\n",
              "      <td>11722</td>\n",
              "      <td>NaN</td>\n",
              "      <td>nan</td>\n",
              "      <td>CENTRAL ISLIP</td>\n",
              "      <td>NY</td>\n",
              "      <td>5167448898</td>\n",
              "      <td>NaN</td>\n",
              "      <td>AAARON@AMGGT.COM</td>\n",
              "      <td>NaN</td>\n",
              "      <td>NaN</td>\n",
              "      <td>NaN</td>\n",
              "      <td>NaN</td>\n",
              "      <td>NaN</td>\n",
              "      <td>15234184</td>\n",
              "    </tr>\n",
              "  </tbody>\n",
              "</table>\n",
              "</div>"
            ],
            "text/plain": [
              "    index  EnterpriseID   LAST  FIRST  ... PHONE2a PHONE2b  PHONE2c       eid\n",
              "68     68      13771070  AARON    ADI  ...     NaN     NaN      NaN  13771070\n",
              "83     83      14772302  AARON   ALTA  ...     NaN     NaN      NaN  14772302\n",
              "95     95      15234184  AARON  AYANA  ...     NaN     NaN      NaN  15234184\n",
              "\n",
              "[3 rows x 25 columns]"
            ]
          },
          "metadata": {
            "tags": []
          },
          "execution_count": 73
        }
      ]
    },
    {
      "cell_type": "markdown",
      "metadata": {
        "id": "LtNcYI6n2mSv",
        "colab_type": "text"
      },
      "source": [
        "## STATE"
      ]
    },
    {
      "cell_type": "code",
      "metadata": {
        "id": "0yRvijlZ0jo0",
        "colab_type": "code",
        "colab": {
          "base_uri": "https://localhost:8080/",
          "height": 34
        },
        "outputId": "06fc348b-f850-45f8-ecfb-3f5a71d275d6"
      },
      "source": [
        "set(data['STATE'].astype('str').apply(len))"
      ],
      "execution_count": 74,
      "outputs": [
        {
          "output_type": "execute_result",
          "data": {
            "text/plain": [
              "{1, 2, 3, 5, 6, 8}"
            ]
          },
          "metadata": {
            "tags": []
          },
          "execution_count": 74
        }
      ]
    },
    {
      "cell_type": "code",
      "metadata": {
        "id": "P8822NNp-Nv8",
        "colab_type": "code",
        "colab": {}
      },
      "source": [
        "us_states = {'AK', 'AL', 'AR', 'AS', 'AZ', 'CA', 'CO', 'CT', 'DC', 'DE', 'FL', 'GA', 'GU', 'HI', 'IA', 'ID', 'IL', 'IN', 'KS', 'KY', 'LA', 'MA', 'MD', 'ME', 'MI', 'MN', 'MO', 'MP', 'MS', 'MT', 'NA', 'NC', 'ND', 'NE', 'NH', 'NJ', 'NM', 'NV', 'NY', 'OH', 'OK', 'OR', 'PA', 'PR', 'RI', 'SC', 'SD', 'TN', 'TX', 'UT', 'VA', 'VI', 'VT', 'WA', 'WI', 'WV', 'WY'}"
      ],
      "execution_count": 75,
      "outputs": []
    },
    {
      "cell_type": "code",
      "metadata": {
        "id": "gDqKdIME4sEQ",
        "colab_type": "code",
        "colab": {
          "base_uri": "https://localhost:8080/",
          "height": 34
        },
        "outputId": "556caea9-fdb8-471b-e394-a2f3c74999c0"
      },
      "source": [
        "set(data['STATE'][data['STATE'].astype('str').apply(len)==2]) - us_states"
      ],
      "execution_count": 76,
      "outputs": [
        {
          "output_type": "execute_result",
          "data": {
            "text/plain": [
              "{'CD', 'CN', 'MY', 'ON', 'OS', 'QC', 'UN', 'ZZ'}"
            ]
          },
          "metadata": {
            "tags": []
          },
          "execution_count": 76
        }
      ]
    },
    {
      "cell_type": "code",
      "metadata": {
        "id": "wDunnjeL43WH",
        "colab_type": "code",
        "colab": {
          "base_uri": "https://localhost:8080/",
          "height": 112
        },
        "outputId": "c61a14ba-d2a5-4b1b-840e-c38980a9363b"
      },
      "source": [
        "data[['STATE']][ (data['STATE'].astype('str').apply(len) == 5 )].dropna()"
      ],
      "execution_count": 77,
      "outputs": [
        {
          "output_type": "execute_result",
          "data": {
            "text/html": [
              "<div>\n",
              "<style scoped>\n",
              "    .dataframe tbody tr th:only-of-type {\n",
              "        vertical-align: middle;\n",
              "    }\n",
              "\n",
              "    .dataframe tbody tr th {\n",
              "        vertical-align: top;\n",
              "    }\n",
              "\n",
              "    .dataframe thead th {\n",
              "        text-align: right;\n",
              "    }\n",
              "</style>\n",
              "<table border=\"1\" class=\"dataframe\">\n",
              "  <thead>\n",
              "    <tr style=\"text-align: right;\">\n",
              "      <th></th>\n",
              "      <th>STATE</th>\n",
              "    </tr>\n",
              "  </thead>\n",
              "  <tbody>\n",
              "    <tr>\n",
              "      <th>182297</th>\n",
              "      <td>BRONX</td>\n",
              "    </tr>\n",
              "    <tr>\n",
              "      <th>602925</th>\n",
              "      <td>10454</td>\n",
              "    </tr>\n",
              "  </tbody>\n",
              "</table>\n",
              "</div>"
            ],
            "text/plain": [
              "        STATE\n",
              "182297  BRONX\n",
              "602925  10454"
            ]
          },
          "metadata": {
            "tags": []
          },
          "execution_count": 77
        }
      ]
    },
    {
      "cell_type": "code",
      "metadata": {
        "id": "X8thFNPhCR4b",
        "colab_type": "code",
        "colab": {}
      },
      "source": [
        "import numpy as np"
      ],
      "execution_count": 78,
      "outputs": []
    },
    {
      "cell_type": "markdown",
      "metadata": {
        "id": "hP3UoSnejNQX",
        "colab_type": "text"
      },
      "source": [
        "## CITY"
      ]
    },
    {
      "cell_type": "code",
      "metadata": {
        "id": "t1bYeL3k-dZU",
        "colab_type": "code",
        "colab": {
          "base_uri": "https://localhost:8080/",
          "height": 34
        },
        "outputId": "a1473c59-68b1-445f-ccf9-ee816058bc37"
      },
      "source": [
        "set(data['CITY'].astype('str').apply(len))"
      ],
      "execution_count": 79,
      "outputs": [
        {
          "output_type": "execute_result",
          "data": {
            "text/plain": [
              "{1, 2, 3, 4, 5, 6, 7, 8, 9, 10, 11, 12, 13, 14, 15, 16, 17, 18, 19, 20, 22}"
            ]
          },
          "metadata": {
            "tags": []
          },
          "execution_count": 79
        }
      ]
    },
    {
      "cell_type": "code",
      "metadata": {
        "id": "4wuc3HBgjt0R",
        "colab_type": "code",
        "colab": {
          "base_uri": "https://localhost:8080/",
          "height": 424
        },
        "outputId": "920a2b10-e265-43ba-b6fb-46762ef194fb"
      },
      "source": [
        "data[['CITY']][(data['CITY'].astype('str').apply(len) == 9 )].dropna()"
      ],
      "execution_count": 80,
      "outputs": [
        {
          "output_type": "execute_result",
          "data": {
            "text/html": [
              "<div>\n",
              "<style scoped>\n",
              "    .dataframe tbody tr th:only-of-type {\n",
              "        vertical-align: middle;\n",
              "    }\n",
              "\n",
              "    .dataframe tbody tr th {\n",
              "        vertical-align: top;\n",
              "    }\n",
              "\n",
              "    .dataframe thead th {\n",
              "        text-align: right;\n",
              "    }\n",
              "</style>\n",
              "<table border=\"1\" class=\"dataframe\">\n",
              "  <thead>\n",
              "    <tr style=\"text-align: right;\">\n",
              "      <th></th>\n",
              "      <th>CITY</th>\n",
              "    </tr>\n",
              "  </thead>\n",
              "  <tbody>\n",
              "    <tr>\n",
              "      <th>61</th>\n",
              "      <td>WOODRIDGE</td>\n",
              "    </tr>\n",
              "    <tr>\n",
              "      <th>88</th>\n",
              "      <td>LAURELTON</td>\n",
              "    </tr>\n",
              "    <tr>\n",
              "      <th>107</th>\n",
              "      <td>ROCHESTER</td>\n",
              "    </tr>\n",
              "    <tr>\n",
              "      <th>109</th>\n",
              "      <td>BAY SHORE</td>\n",
              "    </tr>\n",
              "    <tr>\n",
              "      <th>110</th>\n",
              "      <td>ST ALBANS</td>\n",
              "    </tr>\n",
              "    <tr>\n",
              "      <th>...</th>\n",
              "      <td>...</td>\n",
              "    </tr>\n",
              "    <tr>\n",
              "      <th>999958</th>\n",
              "      <td>RIVERHEAD</td>\n",
              "    </tr>\n",
              "    <tr>\n",
              "      <th>999959</th>\n",
              "      <td>RIVERHEAD</td>\n",
              "    </tr>\n",
              "    <tr>\n",
              "      <th>999969</th>\n",
              "      <td>ST ALBANS</td>\n",
              "    </tr>\n",
              "    <tr>\n",
              "      <th>999978</th>\n",
              "      <td>ST.ALBANS</td>\n",
              "    </tr>\n",
              "    <tr>\n",
              "      <th>999997</th>\n",
              "      <td>ST. JAMES</td>\n",
              "    </tr>\n",
              "  </tbody>\n",
              "</table>\n",
              "<p>29763 rows × 1 columns</p>\n",
              "</div>"
            ],
            "text/plain": [
              "             CITY\n",
              "61      WOODRIDGE\n",
              "88      LAURELTON\n",
              "107     ROCHESTER\n",
              "109     BAY SHORE\n",
              "110     ST ALBANS\n",
              "...           ...\n",
              "999958  RIVERHEAD\n",
              "999959  RIVERHEAD\n",
              "999969  ST ALBANS\n",
              "999978  ST.ALBANS\n",
              "999997  ST. JAMES\n",
              "\n",
              "[29763 rows x 1 columns]"
            ]
          },
          "metadata": {
            "tags": []
          },
          "execution_count": 80
        }
      ]
    },
    {
      "cell_type": "code",
      "metadata": {
        "id": "_CYSjAOne8Xd",
        "colab_type": "code",
        "colab": {}
      },
      "source": [
        "def clean_gender(x):\n",
        "    if x in ('FEMALE','F'):\n",
        "        return 'F'\n",
        "    if x in ('MALE','M'):\n",
        "        return 'M'\n",
        "    else:\n",
        "        return 'U'"
      ],
      "execution_count": 81,
      "outputs": []
    },
    {
      "cell_type": "code",
      "metadata": {
        "id": "5r2RMbvyfAkE",
        "colab_type": "code",
        "colab": {}
      },
      "source": [
        "data['GENDER'] = data['GENDER'].apply(clean_gender)"
      ],
      "execution_count": 82,
      "outputs": []
    },
    {
      "cell_type": "markdown",
      "metadata": {
        "id": "irfFjsd7VTxW",
        "colab_type": "text"
      },
      "source": [
        "## ADDRESS1"
      ]
    },
    {
      "cell_type": "code",
      "metadata": {
        "id": "7d81My37VXvb",
        "colab_type": "code",
        "colab": {}
      },
      "source": [
        ""
      ],
      "execution_count": 82,
      "outputs": []
    },
    {
      "cell_type": "markdown",
      "metadata": {
        "id": "HiLeKHOqVZVe",
        "colab_type": "text"
      },
      "source": [
        "## ADDRESS2"
      ]
    },
    {
      "cell_type": "markdown",
      "metadata": {
        "id": "dDQDGVpm1Wzw",
        "colab_type": "text"
      },
      "source": [
        "# Creating Blocking Key\n"
      ]
    },
    {
      "cell_type": "code",
      "metadata": {
        "id": "JjEo31qj1bWr",
        "colab_type": "code",
        "colab": {}
      },
      "source": [
        "data[\"BLOCK\"] = data[\"FIRST\"].astype(str).str[0:2] + data[\"LAST\"].astype(str).str[0:2] + data[\"GENDER\"] + data[\"DOB\"].astype(str).str[-4:-2]"
      ],
      "execution_count": 83,
      "outputs": []
    },
    {
      "cell_type": "markdown",
      "metadata": {
        "id": "dZp6SDhu1psY",
        "colab_type": "text"
      },
      "source": [
        "# Record Linkage "
      ]
    },
    {
      "cell_type": "code",
      "metadata": {
        "id": "9w7sRKtL7xwR",
        "colab_type": "code",
        "colab": {
          "base_uri": "https://localhost:8080/",
          "height": 225
        },
        "outputId": "dc5e8b58-fdf8-4542-8044-6e17d47537a0"
      },
      "source": [
        "data.BLOCK.value_counts()"
      ],
      "execution_count": 84,
      "outputs": [
        {
          "output_type": "execute_result",
          "data": {
            "text/plain": [
              "MAnaFn     37\n",
              "MAnaF79    28\n",
              "MAnaF38    25\n",
              "JOMAM96    25\n",
              "MAnaF60    24\n",
              "           ..\n",
              "ANKIF49     1\n",
              "STVAM05     1\n",
              "DALOM34     1\n",
              "MOKHU45     1\n",
              "AMXEF13     1\n",
              "Name: BLOCK, Length: 669224, dtype: int64"
            ]
          },
          "metadata": {
            "tags": []
          },
          "execution_count": 84
        }
      ]
    },
    {
      "cell_type": "code",
      "metadata": {
        "id": "C5uAxLL57UnO",
        "colab_type": "code",
        "colab": {
          "base_uri": "https://localhost:8080/",
          "height": 315
        },
        "outputId": "719e7fb0-3f6b-434d-84ba-e9a4633c4638"
      },
      "source": [
        "!pip install recordlinkage"
      ],
      "execution_count": 44,
      "outputs": [
        {
          "output_type": "stream",
          "text": [
            "Collecting recordlinkage\n",
            "\u001b[?25l  Downloading https://files.pythonhosted.org/packages/db/26/babbca39d74824e8bc17428a8eb04951a1d63318af7d02beeb2106a1ec26/recordlinkage-0.14-py3-none-any.whl (944kB)\n",
            "\u001b[K     |████████████████████████████████| 952kB 2.7MB/s \n",
            "\u001b[?25hRequirement already satisfied: scipy>=1 in /usr/local/lib/python3.6/dist-packages (from recordlinkage) (1.4.1)\n",
            "Requirement already satisfied: scikit-learn>=0.19.0 in /usr/local/lib/python3.6/dist-packages (from recordlinkage) (0.22.2.post1)\n",
            "Requirement already satisfied: joblib in /usr/local/lib/python3.6/dist-packages (from recordlinkage) (0.16.0)\n",
            "Requirement already satisfied: numpy>=1.13.0 in /usr/local/lib/python3.6/dist-packages (from recordlinkage) (1.18.5)\n",
            "Collecting jellyfish>=0.5.4\n",
            "\u001b[?25l  Downloading https://files.pythonhosted.org/packages/6c/09/927ae35fc5a9f70abb6cc2c27ee88fc48549f7bc4786c1d4b177c22e997d/jellyfish-0.8.2-cp36-cp36m-manylinux2014_x86_64.whl (93kB)\n",
            "\u001b[K     |████████████████████████████████| 102kB 7.1MB/s \n",
            "\u001b[?25hRequirement already satisfied: pandas>=0.23 in /usr/local/lib/python3.6/dist-packages (from recordlinkage) (1.0.5)\n",
            "Requirement already satisfied: python-dateutil>=2.6.1 in /usr/local/lib/python3.6/dist-packages (from pandas>=0.23->recordlinkage) (2.8.1)\n",
            "Requirement already satisfied: pytz>=2017.2 in /usr/local/lib/python3.6/dist-packages (from pandas>=0.23->recordlinkage) (2018.9)\n",
            "Requirement already satisfied: six>=1.5 in /usr/local/lib/python3.6/dist-packages (from python-dateutil>=2.6.1->pandas>=0.23->recordlinkage) (1.12.0)\n",
            "Installing collected packages: jellyfish, recordlinkage\n",
            "Successfully installed jellyfish-0.8.2 recordlinkage-0.14\n"
          ],
          "name": "stdout"
        }
      ]
    },
    {
      "cell_type": "code",
      "metadata": {
        "id": "av8RRK6avA0E",
        "colab_type": "code",
        "colab": {
          "base_uri": "https://localhost:8080/",
          "height": 704
        },
        "outputId": "06234f2c-576c-43f7-ea35-050f4968aeda"
      },
      "source": [
        "d"
      ],
      "execution_count": 99,
      "outputs": [
        {
          "output_type": "execute_result",
          "data": {
            "text/html": [
              "<div>\n",
              "<style scoped>\n",
              "    .dataframe tbody tr th:only-of-type {\n",
              "        vertical-align: middle;\n",
              "    }\n",
              "\n",
              "    .dataframe tbody tr th {\n",
              "        vertical-align: top;\n",
              "    }\n",
              "\n",
              "    .dataframe thead th {\n",
              "        text-align: right;\n",
              "    }\n",
              "</style>\n",
              "<table border=\"1\" class=\"dataframe\">\n",
              "  <thead>\n",
              "    <tr style=\"text-align: right;\">\n",
              "      <th></th>\n",
              "      <th>index</th>\n",
              "      <th>EnterpriseID</th>\n",
              "      <th>LAST</th>\n",
              "      <th>FIRST</th>\n",
              "      <th>MIDDLE</th>\n",
              "      <th>SUFFIX</th>\n",
              "      <th>DOB</th>\n",
              "      <th>GENDER</th>\n",
              "      <th>SSN</th>\n",
              "      <th>ADDRESS1</th>\n",
              "      <th>ADDRESS2</th>\n",
              "      <th>ZIP</th>\n",
              "      <th>MOTHERS_MAIDEN_NAME</th>\n",
              "      <th>MRN</th>\n",
              "      <th>CITY</th>\n",
              "      <th>STATE</th>\n",
              "      <th>PHONE</th>\n",
              "      <th>PHONE2</th>\n",
              "      <th>EMAIL</th>\n",
              "      <th>ALIAS</th>\n",
              "      <th>PHONE_ZIP</th>\n",
              "      <th>PHONE2a</th>\n",
              "      <th>PHONE2b</th>\n",
              "      <th>PHONE2c</th>\n",
              "      <th>eid</th>\n",
              "      <th>BLOCK</th>\n",
              "    </tr>\n",
              "  </thead>\n",
              "  <tbody>\n",
              "    <tr>\n",
              "      <th>0</th>\n",
              "      <td>0</td>\n",
              "      <td>14065387</td>\n",
              "      <td>AABERG</td>\n",
              "      <td>KATHERINE</td>\n",
              "      <td>NaN</td>\n",
              "      <td>NaN</td>\n",
              "      <td>8476.00000</td>\n",
              "      <td>F</td>\n",
              "      <td>892-39-5115</td>\n",
              "      <td>1414 HAZEN ST</td>\n",
              "      <td>NaN</td>\n",
              "      <td>11370</td>\n",
              "      <td>NaN</td>\n",
              "      <td>nan</td>\n",
              "      <td>FLUSHING</td>\n",
              "      <td>NY</td>\n",
              "      <td>3479846839</td>\n",
              "      <td>NaN</td>\n",
              "      <td>NaN</td>\n",
              "      <td>NaN</td>\n",
              "      <td>NaN</td>\n",
              "      <td>NaN</td>\n",
              "      <td>NaN</td>\n",
              "      <td>NaN</td>\n",
              "      <td>14065387</td>\n",
              "      <td>KAAAF76</td>\n",
              "    </tr>\n",
              "    <tr>\n",
              "      <th>1</th>\n",
              "      <td>1</td>\n",
              "      <td>12847713</td>\n",
              "      <td>AABY</td>\n",
              "      <td>PATSY</td>\n",
              "      <td>NaN</td>\n",
              "      <td>NaN</td>\n",
              "      <td>12222.00000</td>\n",
              "      <td>F</td>\n",
              "      <td>NaN</td>\n",
              "      <td>1621 UN ST</td>\n",
              "      <td>1E</td>\n",
              "      <td>11213</td>\n",
              "      <td>NaN</td>\n",
              "      <td>4723376.00000</td>\n",
              "      <td>BROOKLYN</td>\n",
              "      <td>NY</td>\n",
              "      <td>9171308285</td>\n",
              "      <td>NaN</td>\n",
              "      <td>NaN</td>\n",
              "      <td>NaN</td>\n",
              "      <td>NaN</td>\n",
              "      <td>NaN</td>\n",
              "      <td>NaN</td>\n",
              "      <td>NaN</td>\n",
              "      <td>12847713</td>\n",
              "      <td>PAAAF22</td>\n",
              "    </tr>\n",
              "    <tr>\n",
              "      <th>2</th>\n",
              "      <td>2</td>\n",
              "      <td>12263824</td>\n",
              "      <td>AACANC</td>\n",
              "      <td>NaN</td>\n",
              "      <td>NaN</td>\n",
              "      <td>NaN</td>\n",
              "      <td>31887.00000</td>\n",
              "      <td>M</td>\n",
              "      <td>843-26-7213</td>\n",
              "      <td>9427 KINGS HWY</td>\n",
              "      <td>6F</td>\n",
              "      <td>11223</td>\n",
              "      <td>NaN</td>\n",
              "      <td>nan</td>\n",
              "      <td>BROOKLYN</td>\n",
              "      <td>NY</td>\n",
              "      <td>2015312857</td>\n",
              "      <td>NaN</td>\n",
              "      <td>NaN</td>\n",
              "      <td>AACANC</td>\n",
              "      <td>NaN</td>\n",
              "      <td>NaN</td>\n",
              "      <td>NaN</td>\n",
              "      <td>NaN</td>\n",
              "      <td>12263824</td>\n",
              "      <td>naAAM87</td>\n",
              "    </tr>\n",
              "    <tr>\n",
              "      <th>3</th>\n",
              "      <td>3</td>\n",
              "      <td>14781139</td>\n",
              "      <td>AADAHLGEBERT</td>\n",
              "      <td>ARLEEN</td>\n",
              "      <td>NaN</td>\n",
              "      <td>NaN</td>\n",
              "      <td>16007.00000</td>\n",
              "      <td>F</td>\n",
              "      <td>NaN</td>\n",
              "      <td>620 TRINITY AVE</td>\n",
              "      <td>D16</td>\n",
              "      <td>10455</td>\n",
              "      <td>NaN</td>\n",
              "      <td>nan</td>\n",
              "      <td>BRONX</td>\n",
              "      <td>NY</td>\n",
              "      <td>7329502944</td>\n",
              "      <td>NaN</td>\n",
              "      <td>AAADAHLGEBERT@AMGGT.COM</td>\n",
              "      <td>NaN</td>\n",
              "      <td>NaN</td>\n",
              "      <td>NaN</td>\n",
              "      <td>NaN</td>\n",
              "      <td>NaN</td>\n",
              "      <td>14781139</td>\n",
              "      <td>ARAAF07</td>\n",
              "    </tr>\n",
              "    <tr>\n",
              "      <th>4</th>\n",
              "      <td>4</td>\n",
              "      <td>15616535</td>\n",
              "      <td>AADDAT</td>\n",
              "      <td>PIERCE</td>\n",
              "      <td>RALPH</td>\n",
              "      <td>NaN</td>\n",
              "      <td>14730.00000</td>\n",
              "      <td>M</td>\n",
              "      <td>NaN</td>\n",
              "      <td>1155 MORRISON AVENUE</td>\n",
              "      <td>1E</td>\n",
              "      <td>10472</td>\n",
              "      <td>NaN</td>\n",
              "      <td>4859518.00000</td>\n",
              "      <td>BRONX</td>\n",
              "      <td>NY</td>\n",
              "      <td>NaN</td>\n",
              "      <td>NaN</td>\n",
              "      <td>NaN</td>\n",
              "      <td>PIERCE RALPH AADDAT</td>\n",
              "      <td>NaN</td>\n",
              "      <td>NaN</td>\n",
              "      <td>NaN</td>\n",
              "      <td>NaN</td>\n",
              "      <td>15616535</td>\n",
              "      <td>PIAAM30</td>\n",
              "    </tr>\n",
              "    <tr>\n",
              "      <th>...</th>\n",
              "      <td>...</td>\n",
              "      <td>...</td>\n",
              "      <td>...</td>\n",
              "      <td>...</td>\n",
              "      <td>...</td>\n",
              "      <td>...</td>\n",
              "      <td>...</td>\n",
              "      <td>...</td>\n",
              "      <td>...</td>\n",
              "      <td>...</td>\n",
              "      <td>...</td>\n",
              "      <td>...</td>\n",
              "      <td>...</td>\n",
              "      <td>...</td>\n",
              "      <td>...</td>\n",
              "      <td>...</td>\n",
              "      <td>...</td>\n",
              "      <td>...</td>\n",
              "      <td>...</td>\n",
              "      <td>...</td>\n",
              "      <td>...</td>\n",
              "      <td>...</td>\n",
              "      <td>...</td>\n",
              "      <td>...</td>\n",
              "      <td>...</td>\n",
              "      <td>...</td>\n",
              "    </tr>\n",
              "    <tr>\n",
              "      <th>99996</th>\n",
              "      <td>99996</td>\n",
              "      <td>15908742</td>\n",
              "      <td>BROCKHAUS</td>\n",
              "      <td>SUSAN</td>\n",
              "      <td>NELSON</td>\n",
              "      <td>NaN</td>\n",
              "      <td>19526.00000</td>\n",
              "      <td>F</td>\n",
              "      <td>855-43-8205</td>\n",
              "      <td>2120 RANDALE AVENUE</td>\n",
              "      <td>2A</td>\n",
              "      <td>10473</td>\n",
              "      <td>NaN</td>\n",
              "      <td>4841936.00000</td>\n",
              "      <td>BRONX</td>\n",
              "      <td>NY</td>\n",
              "      <td>9349223835</td>\n",
              "      <td>973-664-5261</td>\n",
              "      <td>NaN</td>\n",
              "      <td>NaN</td>\n",
              "      <td>NaN</td>\n",
              "      <td>NaN</td>\n",
              "      <td>NaN</td>\n",
              "      <td>NaN</td>\n",
              "      <td>15908742</td>\n",
              "      <td>SUBRF26</td>\n",
              "    </tr>\n",
              "    <tr>\n",
              "      <th>99997</th>\n",
              "      <td>99997</td>\n",
              "      <td>12739899</td>\n",
              "      <td>BROCKHOFF</td>\n",
              "      <td>CHRISTINA</td>\n",
              "      <td>LINDA</td>\n",
              "      <td>NaN</td>\n",
              "      <td>39976.00000</td>\n",
              "      <td>F</td>\n",
              "      <td>870-21-5892</td>\n",
              "      <td>484 EAST 96TH ST</td>\n",
              "      <td>PVT</td>\n",
              "      <td>11212</td>\n",
              "      <td>NaN</td>\n",
              "      <td>nan</td>\n",
              "      <td>BROOKLYN</td>\n",
              "      <td>NY</td>\n",
              "      <td>6314715877</td>\n",
              "      <td>NaN</td>\n",
              "      <td>CBROCKHOFF@AMGGT.COM</td>\n",
              "      <td>NaN</td>\n",
              "      <td>NaN</td>\n",
              "      <td>NaN</td>\n",
              "      <td>NaN</td>\n",
              "      <td>NaN</td>\n",
              "      <td>12739899</td>\n",
              "      <td>CHBRF76</td>\n",
              "    </tr>\n",
              "    <tr>\n",
              "      <th>99998</th>\n",
              "      <td>99998</td>\n",
              "      <td>14980744</td>\n",
              "      <td>BROCKHOFF</td>\n",
              "      <td>CHRISTINA</td>\n",
              "      <td>NaN</td>\n",
              "      <td>NaN</td>\n",
              "      <td>8777.00000</td>\n",
              "      <td>F</td>\n",
              "      <td>840-84-5485</td>\n",
              "      <td>2928 HONE AVE</td>\n",
              "      <td>PH</td>\n",
              "      <td>10467</td>\n",
              "      <td>NaN</td>\n",
              "      <td>nan</td>\n",
              "      <td>BRONX</td>\n",
              "      <td>NY</td>\n",
              "      <td>9343704365</td>\n",
              "      <td>NaN</td>\n",
              "      <td>CBROCKHOFF@AMGGT.COM</td>\n",
              "      <td>NaN</td>\n",
              "      <td>NaN</td>\n",
              "      <td>NaN</td>\n",
              "      <td>NaN</td>\n",
              "      <td>NaN</td>\n",
              "      <td>14980744</td>\n",
              "      <td>CHBRF77</td>\n",
              "    </tr>\n",
              "    <tr>\n",
              "      <th>99999</th>\n",
              "      <td>99999</td>\n",
              "      <td>12884956</td>\n",
              "      <td>BROCKHOUSE</td>\n",
              "      <td>SYLVIA</td>\n",
              "      <td>STELLA</td>\n",
              "      <td>NaN</td>\n",
              "      <td>38719.00000</td>\n",
              "      <td>F</td>\n",
              "      <td>NaN</td>\n",
              "      <td>MABON BUILDING</td>\n",
              "      <td>13</td>\n",
              "      <td>10035</td>\n",
              "      <td>NaN</td>\n",
              "      <td>nan</td>\n",
              "      <td>NEW YORK</td>\n",
              "      <td>NY</td>\n",
              "      <td>6098986989</td>\n",
              "      <td>NaN</td>\n",
              "      <td>NaN</td>\n",
              "      <td>NaN</td>\n",
              "      <td>NaN</td>\n",
              "      <td>NaN</td>\n",
              "      <td>NaN</td>\n",
              "      <td>NaN</td>\n",
              "      <td>12884956</td>\n",
              "      <td>SYBRF19</td>\n",
              "    </tr>\n",
              "    <tr>\n",
              "      <th>100000</th>\n",
              "      <td>100000</td>\n",
              "      <td>12287347</td>\n",
              "      <td>BROCKIE</td>\n",
              "      <td>REBECCA</td>\n",
              "      <td>NaN</td>\n",
              "      <td>NaN</td>\n",
              "      <td>38773.00000</td>\n",
              "      <td>F</td>\n",
              "      <td>NaN</td>\n",
              "      <td>48 VAN SICLEN AVE</td>\n",
              "      <td>1FL</td>\n",
              "      <td>11207</td>\n",
              "      <td>NaN</td>\n",
              "      <td>nan</td>\n",
              "      <td>BROOKLYN</td>\n",
              "      <td>NY</td>\n",
              "      <td>4848278189</td>\n",
              "      <td>NaN</td>\n",
              "      <td>NaN</td>\n",
              "      <td>NaN</td>\n",
              "      <td>NaN</td>\n",
              "      <td>NaN</td>\n",
              "      <td>NaN</td>\n",
              "      <td>NaN</td>\n",
              "      <td>12287347</td>\n",
              "      <td>REBRF73</td>\n",
              "    </tr>\n",
              "  </tbody>\n",
              "</table>\n",
              "<p>100001 rows × 26 columns</p>\n",
              "</div>"
            ],
            "text/plain": [
              "         index  EnterpriseID          LAST  ... PHONE2c       eid    BLOCK\n",
              "0            0      14065387        AABERG  ...     NaN  14065387  KAAAF76\n",
              "1            1      12847713          AABY  ...     NaN  12847713  PAAAF22\n",
              "2            2      12263824        AACANC  ...     NaN  12263824  naAAM87\n",
              "3            3      14781139  AADAHLGEBERT  ...     NaN  14781139  ARAAF07\n",
              "4            4      15616535        AADDAT  ...     NaN  15616535  PIAAM30\n",
              "...        ...           ...           ...  ...     ...       ...      ...\n",
              "99996    99996      15908742     BROCKHAUS  ...     NaN  15908742  SUBRF26\n",
              "99997    99997      12739899     BROCKHOFF  ...     NaN  12739899  CHBRF76\n",
              "99998    99998      14980744     BROCKHOFF  ...     NaN  14980744  CHBRF77\n",
              "99999    99999      12884956    BROCKHOUSE  ...     NaN  12884956  SYBRF19\n",
              "100000  100000      12287347       BROCKIE  ...     NaN  12287347  REBRF73\n",
              "\n",
              "[100001 rows x 26 columns]"
            ]
          },
          "metadata": {
            "tags": []
          },
          "execution_count": 99
        }
      ]
    },
    {
      "cell_type": "code",
      "metadata": {
        "id": "q9_DIU_11uVp",
        "colab_type": "code",
        "colab": {
          "base_uri": "https://localhost:8080/",
          "height": 69
        },
        "outputId": "c8d9425f-d529-4147-a872-b430c6d628f6"
      },
      "source": [
        "import recordlinkage as rl\n",
        "from recordlinkage.index import Block\n",
        "from recordlinkage.compare import Exact, String\n",
        "\n",
        "# running on subset of data\n",
        "d = data.loc[0:100000]\n",
        "\n",
        "#Creating comparison pairs using blocking key\n",
        "indexer = rl.BlockIndex(on='BLOCK')\n",
        "pairs = indexer.index(d)\n",
        "print (len(pairs))\n",
        "\n",
        "# Calculating distance matrix for selected features\n",
        "comparer = rl.Compare()\n",
        "#comparer.add(String('DOB', 'DOB', label='DOB',threshold=0.95,method='damerau_levenshtein'))\n",
        "#comparer.add(Exact('GENDER', 'GENDER', label='GENDER'))\n",
        "comparer.add(String('FIRST', 'FIRST', threshold=0.90,method='damerau_levenshtein', label='FIRST'))\n",
        "comparer.add(String('LAST', 'LAST', threshold=0.90,method='damerau_levenshtein',label='LAST'))\n",
        "comparison1 = comparer.compute(pairs, d[['FIRST','LAST']])\n",
        "print('feature shape', comparison1.shape)\n",
        "\n",
        "# Criterion for matching pairs\n",
        "matches = comparison1[comparison1.sum(axis=1) >= 3]\n",
        "print(matches.shape)"
      ],
      "execution_count": 113,
      "outputs": [
        {
          "output_type": "stream",
          "text": [
            "52856\n",
            "feature shape (52856, 2)\n",
            "(0, 2)\n"
          ],
          "name": "stdout"
        }
      ]
    },
    {
      "cell_type": "code",
      "metadata": {
        "id": "2hzBXZ6qyxNP",
        "colab_type": "code",
        "colab": {
          "base_uri": "https://localhost:8080/",
          "height": 424
        },
        "outputId": "b8f3143a-ea12-47f7-bae6-9d0382a420c3"
      },
      "source": [
        "comparison1"
      ],
      "execution_count": 114,
      "outputs": [
        {
          "output_type": "execute_result",
          "data": {
            "text/html": [
              "<div>\n",
              "<style scoped>\n",
              "    .dataframe tbody tr th:only-of-type {\n",
              "        vertical-align: middle;\n",
              "    }\n",
              "\n",
              "    .dataframe tbody tr th {\n",
              "        vertical-align: top;\n",
              "    }\n",
              "\n",
              "    .dataframe thead th {\n",
              "        text-align: right;\n",
              "    }\n",
              "</style>\n",
              "<table border=\"1\" class=\"dataframe\">\n",
              "  <thead>\n",
              "    <tr style=\"text-align: right;\">\n",
              "      <th></th>\n",
              "      <th></th>\n",
              "      <th>FIRST</th>\n",
              "      <th>LAST</th>\n",
              "    </tr>\n",
              "  </thead>\n",
              "  <tbody>\n",
              "    <tr>\n",
              "      <th>100</th>\n",
              "      <th>99</th>\n",
              "      <td>1.00000</td>\n",
              "      <td>1.00000</td>\n",
              "    </tr>\n",
              "    <tr>\n",
              "      <th>105</th>\n",
              "      <th>101</th>\n",
              "      <td>1.00000</td>\n",
              "      <td>1.00000</td>\n",
              "    </tr>\n",
              "    <tr>\n",
              "      <th>104</th>\n",
              "      <th>102</th>\n",
              "      <td>1.00000</td>\n",
              "      <td>1.00000</td>\n",
              "    </tr>\n",
              "    <tr>\n",
              "      <th>106</th>\n",
              "      <th>103</th>\n",
              "      <td>1.00000</td>\n",
              "      <td>1.00000</td>\n",
              "    </tr>\n",
              "    <tr>\n",
              "      <th>145</th>\n",
              "      <th>144</th>\n",
              "      <td>1.00000</td>\n",
              "      <td>1.00000</td>\n",
              "    </tr>\n",
              "    <tr>\n",
              "      <th>...</th>\n",
              "      <th>...</th>\n",
              "      <td>...</td>\n",
              "      <td>...</td>\n",
              "    </tr>\n",
              "    <tr>\n",
              "      <th>99970</th>\n",
              "      <th>99957</th>\n",
              "      <td>1.00000</td>\n",
              "      <td>1.00000</td>\n",
              "    </tr>\n",
              "    <tr>\n",
              "      <th>99974</th>\n",
              "      <th>99959</th>\n",
              "      <td>1.00000</td>\n",
              "      <td>1.00000</td>\n",
              "    </tr>\n",
              "    <tr>\n",
              "      <th>99965</th>\n",
              "      <th>99961</th>\n",
              "      <td>1.00000</td>\n",
              "      <td>1.00000</td>\n",
              "    </tr>\n",
              "    <tr>\n",
              "      <th>99968</th>\n",
              "      <th>99964</th>\n",
              "      <td>1.00000</td>\n",
              "      <td>1.00000</td>\n",
              "    </tr>\n",
              "    <tr>\n",
              "      <th>99996</th>\n",
              "      <th>99995</th>\n",
              "      <td>1.00000</td>\n",
              "      <td>1.00000</td>\n",
              "    </tr>\n",
              "  </tbody>\n",
              "</table>\n",
              "<p>52856 rows × 2 columns</p>\n",
              "</div>"
            ],
            "text/plain": [
              "              FIRST    LAST\n",
              "100   99    1.00000 1.00000\n",
              "105   101   1.00000 1.00000\n",
              "104   102   1.00000 1.00000\n",
              "106   103   1.00000 1.00000\n",
              "145   144   1.00000 1.00000\n",
              "...             ...     ...\n",
              "99970 99957 1.00000 1.00000\n",
              "99974 99959 1.00000 1.00000\n",
              "99965 99961 1.00000 1.00000\n",
              "99968 99964 1.00000 1.00000\n",
              "99996 99995 1.00000 1.00000\n",
              "\n",
              "[52856 rows x 2 columns]"
            ]
          },
          "metadata": {
            "tags": []
          },
          "execution_count": 114
        }
      ]
    },
    {
      "cell_type": "markdown",
      "metadata": {
        "id": "mBg2SR3bKqTn",
        "colab_type": "text"
      },
      "source": [
        "# Fellegi Sunter Method - Unsupervised"
      ]
    },
    {
      "cell_type": "code",
      "metadata": {
        "id": "DlgYui1I7gi7",
        "colab_type": "code",
        "colab": {}
      },
      "source": [
        "# !pip install recordlinkage\n",
        "\n",
        "import recordlinkage as rl"
      ],
      "execution_count": 85,
      "outputs": []
    },
    {
      "cell_type": "code",
      "metadata": {
        "id": "IOY9WCCPySGr",
        "colab_type": "code",
        "colab": {}
      },
      "source": [
        "matching_data = data.loc[:2500,['LAST','FIRST','GENDER','SSN','CITY','PHONE']]"
      ],
      "execution_count": 86,
      "outputs": []
    },
    {
      "cell_type": "code",
      "metadata": {
        "id": "1nuKdNh_fbwl",
        "colab_type": "code",
        "colab": {
          "base_uri": "https://localhost:8080/",
          "height": 399
        },
        "outputId": "d1177844-cda0-48af-f501-1a983c7da26a"
      },
      "source": [
        "matching_data[\"BLOCK_SN\"] = matching_data[\"FIRST\"].astype(str) + matching_data[\"LAST\"].astype(str) + matching_data[\"SSN\"].astype(str) + matching_data[\"CITY\"].astype(str)  + data[\"GENDER\"].astype(str) + data[\"PHONE\"].astype(str)\n",
        "\n",
        "indexer = rl.SortedNeighbourhoodIndex(\n",
        "        'BLOCK_SN',window=3, )\n",
        "pairs = indexer.index(matching_data)\n",
        "pairs"
      ],
      "execution_count": 87,
      "outputs": [
        {
          "output_type": "execute_result",
          "data": {
            "text/plain": [
              "MultiIndex([(  52,    7),\n",
              "            (  57,   31),\n",
              "            (  63,   44),\n",
              "            (  95,   65),\n",
              "            ( 105,  101),\n",
              "            ( 106,  103),\n",
              "            ( 117,  116),\n",
              "            ( 156,   85),\n",
              "            ( 169,  111),\n",
              "            ( 181,  155),\n",
              "            ...\n",
              "            (2491,  730),\n",
              "            (2492, 1168),\n",
              "            (2493, 2233),\n",
              "            (2494, 2493),\n",
              "            (2495, 2475),\n",
              "            (2496, 2387),\n",
              "            (2497, 1027),\n",
              "            (2498, 2471),\n",
              "            (2499,  322),\n",
              "            (2500, 2495)],\n",
              "           length=2544)"
            ]
          },
          "metadata": {
            "tags": []
          },
          "execution_count": 87
        }
      ]
    },
    {
      "cell_type": "code",
      "metadata": {
        "id": "PYFDlAGtfaKN",
        "colab_type": "code",
        "colab": {
          "base_uri": "https://localhost:8080/",
          "height": 424
        },
        "outputId": "c3938974-1c38-46c1-a8b9-1b4b5700cfde"
      },
      "source": [
        "comparer = rl.Compare()\n",
        "comparer.string('LAST', 'LAST', method='jarowinkler', threshold=0.85, label='LAST')\n",
        "comparer.string('FIRST', 'FIRST', method='jarowinkler', threshold=0.85, label='FIRST')\n",
        "comparer.string('GENDER', 'GENDER', method='jarowinkler', threshold=0.85, label='GENDER')\n",
        "comparer.string('SSN', 'SSN', method='jarowinkler', threshold=0.85, label='SSN')\n",
        "comparer.string('CITY', 'CITY', method='jarowinkler', threshold=0.85, label='CITY')\n",
        "comparer.string('PHONE', 'PHONE', method='jarowinkler', threshold=0.85, label='PHONE')\n",
        "comparison = comparer.compute(pairs, matching_data)\n",
        "comparison"
      ],
      "execution_count": 88,
      "outputs": [
        {
          "output_type": "execute_result",
          "data": {
            "text/html": [
              "<div>\n",
              "<style scoped>\n",
              "    .dataframe tbody tr th:only-of-type {\n",
              "        vertical-align: middle;\n",
              "    }\n",
              "\n",
              "    .dataframe tbody tr th {\n",
              "        vertical-align: top;\n",
              "    }\n",
              "\n",
              "    .dataframe thead th {\n",
              "        text-align: right;\n",
              "    }\n",
              "</style>\n",
              "<table border=\"1\" class=\"dataframe\">\n",
              "  <thead>\n",
              "    <tr style=\"text-align: right;\">\n",
              "      <th></th>\n",
              "      <th></th>\n",
              "      <th>LAST</th>\n",
              "      <th>FIRST</th>\n",
              "      <th>GENDER</th>\n",
              "      <th>SSN</th>\n",
              "      <th>CITY</th>\n",
              "      <th>PHONE</th>\n",
              "    </tr>\n",
              "  </thead>\n",
              "  <tbody>\n",
              "    <tr>\n",
              "      <th>52</th>\n",
              "      <th>7</th>\n",
              "      <td>0.00000</td>\n",
              "      <td>1.00000</td>\n",
              "      <td>1.00000</td>\n",
              "      <td>0.00000</td>\n",
              "      <td>0.00000</td>\n",
              "      <td>0.00000</td>\n",
              "    </tr>\n",
              "    <tr>\n",
              "      <th>57</th>\n",
              "      <th>31</th>\n",
              "      <td>0.00000</td>\n",
              "      <td>1.00000</td>\n",
              "      <td>1.00000</td>\n",
              "      <td>0.00000</td>\n",
              "      <td>0.00000</td>\n",
              "      <td>0.00000</td>\n",
              "    </tr>\n",
              "    <tr>\n",
              "      <th>63</th>\n",
              "      <th>44</th>\n",
              "      <td>1.00000</td>\n",
              "      <td>1.00000</td>\n",
              "      <td>0.00000</td>\n",
              "      <td>0.00000</td>\n",
              "      <td>0.00000</td>\n",
              "      <td>0.00000</td>\n",
              "    </tr>\n",
              "    <tr>\n",
              "      <th>95</th>\n",
              "      <th>65</th>\n",
              "      <td>1.00000</td>\n",
              "      <td>1.00000</td>\n",
              "      <td>1.00000</td>\n",
              "      <td>0.00000</td>\n",
              "      <td>0.00000</td>\n",
              "      <td>0.00000</td>\n",
              "    </tr>\n",
              "    <tr>\n",
              "      <th>105</th>\n",
              "      <th>101</th>\n",
              "      <td>1.00000</td>\n",
              "      <td>1.00000</td>\n",
              "      <td>1.00000</td>\n",
              "      <td>1.00000</td>\n",
              "      <td>1.00000</td>\n",
              "      <td>0.00000</td>\n",
              "    </tr>\n",
              "    <tr>\n",
              "      <th>...</th>\n",
              "      <th>...</th>\n",
              "      <td>...</td>\n",
              "      <td>...</td>\n",
              "      <td>...</td>\n",
              "      <td>...</td>\n",
              "      <td>...</td>\n",
              "      <td>...</td>\n",
              "    </tr>\n",
              "    <tr>\n",
              "      <th>2496</th>\n",
              "      <th>2387</th>\n",
              "      <td>0.00000</td>\n",
              "      <td>0.00000</td>\n",
              "      <td>1.00000</td>\n",
              "      <td>0.00000</td>\n",
              "      <td>0.00000</td>\n",
              "      <td>0.00000</td>\n",
              "    </tr>\n",
              "    <tr>\n",
              "      <th>2497</th>\n",
              "      <th>1027</th>\n",
              "      <td>0.00000</td>\n",
              "      <td>1.00000</td>\n",
              "      <td>1.00000</td>\n",
              "      <td>0.00000</td>\n",
              "      <td>0.00000</td>\n",
              "      <td>0.00000</td>\n",
              "    </tr>\n",
              "    <tr>\n",
              "      <th>2498</th>\n",
              "      <th>2471</th>\n",
              "      <td>0.00000</td>\n",
              "      <td>1.00000</td>\n",
              "      <td>1.00000</td>\n",
              "      <td>0.00000</td>\n",
              "      <td>1.00000</td>\n",
              "      <td>0.00000</td>\n",
              "    </tr>\n",
              "    <tr>\n",
              "      <th>2499</th>\n",
              "      <th>322</th>\n",
              "      <td>0.00000</td>\n",
              "      <td>0.00000</td>\n",
              "      <td>0.00000</td>\n",
              "      <td>0.00000</td>\n",
              "      <td>0.00000</td>\n",
              "      <td>0.00000</td>\n",
              "    </tr>\n",
              "    <tr>\n",
              "      <th>2500</th>\n",
              "      <th>2495</th>\n",
              "      <td>0.00000</td>\n",
              "      <td>0.00000</td>\n",
              "      <td>0.00000</td>\n",
              "      <td>0.00000</td>\n",
              "      <td>0.00000</td>\n",
              "      <td>0.00000</td>\n",
              "    </tr>\n",
              "  </tbody>\n",
              "</table>\n",
              "<p>2544 rows × 6 columns</p>\n",
              "</div>"
            ],
            "text/plain": [
              "             LAST   FIRST  GENDER     SSN    CITY   PHONE\n",
              "52   7    0.00000 1.00000 1.00000 0.00000 0.00000 0.00000\n",
              "57   31   0.00000 1.00000 1.00000 0.00000 0.00000 0.00000\n",
              "63   44   1.00000 1.00000 0.00000 0.00000 0.00000 0.00000\n",
              "95   65   1.00000 1.00000 1.00000 0.00000 0.00000 0.00000\n",
              "105  101  1.00000 1.00000 1.00000 1.00000 1.00000 0.00000\n",
              "...           ...     ...     ...     ...     ...     ...\n",
              "2496 2387 0.00000 0.00000 1.00000 0.00000 0.00000 0.00000\n",
              "2497 1027 0.00000 1.00000 1.00000 0.00000 0.00000 0.00000\n",
              "2498 2471 0.00000 1.00000 1.00000 0.00000 1.00000 0.00000\n",
              "2499 322  0.00000 0.00000 0.00000 0.00000 0.00000 0.00000\n",
              "2500 2495 0.00000 0.00000 0.00000 0.00000 0.00000 0.00000\n",
              "\n",
              "[2544 rows x 6 columns]"
            ]
          },
          "metadata": {
            "tags": []
          },
          "execution_count": 88
        }
      ]
    },
    {
      "cell_type": "code",
      "metadata": {
        "id": "YkHIhKY7PoK9",
        "colab_type": "code",
        "colab": {
          "base_uri": "https://localhost:8080/",
          "height": 176
        },
        "outputId": "0b482263-3262-490f-c486-60843c2ebbf1"
      },
      "source": [
        "\n",
        "\n",
        "\n",
        "# Initialise the Expectation-Conditional Maximisation classifier.\n",
        "cl = rl.ECMClassifier()\n",
        "cl.fit(comparison)\n",
        "\n",
        "# Print the parameters that are trained (m, u and p). Note that the estimates\n",
        "# are very good.\n",
        "print(\"p probability P(Match):\", cl.p)\n",
        "print(\"m probabilities P(x_i=1|Match):\", cl.m_probs)\n",
        "print(\"u probabilities P(x_i=1|Non-Match):\", cl.u_probs)\n",
        "print(\"log m probabilities P(x_i=1|Match):\", cl.log_m_probs)\n",
        "print(\"log u probabilities P(x_i=1|Non-Match):\", cl.log_u_probs)\n",
        "print(\"log weights of features:\", cl.log_weights)\n",
        "print(\"weights of features:\", cl.weights)\n",
        "\n",
        "# evaluate the model\n",
        "links_pred = cl.predict(comparison)\n",
        "print(\"Predicted number of links:\", len(links_pred))\n",
        "\n",
        "\n",
        "probs = cl.prob(comparison)"
      ],
      "execution_count": 89,
      "outputs": [
        {
          "output_type": "stream",
          "text": [
            "p probability P(Match): 0.10826028393681564\n",
            "m probabilities P(x_i=1|Match): {'LAST': {0.0: 6.641654872547067e-07, 1.0: 0.9999993358345124}, 'FIRST': {0.0: 3.986111124978236e-14, 1.0: 0.99999999999996}, 'GENDER': {0.0: 0.057835284111844035, 1.0: 0.9421647158881559}, 'SSN': {0.0: 0.8004761467170443, 1.0: 0.19952385328295535}, 'CITY': {0.0: 0.5862941476200279, 1.0: 0.4137058523799718}, 'PHONE': {0.0: 0.7785153839483917, 1.0: 0.22148461605160769}}\n",
            "u probabilities P(x_i=1|Non-Match): {'LAST': {0.0: 0.8745535584942769, 1.0: 0.1254464415057235}, 'FIRST': {0.0: 0.46548822727687694, 1.0: 0.5345117727231234}, 'GENDER': {0.0: 0.33019307942255394, 1.0: 0.6698069205774466}, 'SSN': {0.0: 0.9995379037174758, 1.0: 0.0004620962825241195}, 'CITY': {0.0: 0.8602391216812181, 1.0: 0.13976087831878287}, 'PHONE': {0.0: 1.0, 1.0: 3.153587298208812e-39}}\n",
            "log m probabilities P(x_i=1|Match): {'LAST': {0.0: -14.224734490728832, 1.0: -6.641657082084862e-07}, 'FIRST': {0.0: -30.853375201694213, 1.0: -3.9968028886505635e-14}, 'GENDER': {0.0: -2.8501562377916807, 1.0: -0.059575162060848896}, 'SSN': {0.0: -0.22254854496929344, 1.0: -1.611821484471486}, 'CITY': {0.0: -0.5339336569481459, 1.0: -0.8826000591802847}, 'PHONE': {0.0: -0.2503665268906241, 1.0: -1.5074021454005653}}\n",
            "log u probabilities P(x_i=1|Non-Match): {'LAST': {0.0: -0.13404174169414151, 1.0: -2.0758763724092217}, 'FIRST': {0.0: -0.7646684730748854, 1.0: -0.6264015230849056}, 'GENDER': {0.0: -1.1080777064602838, 1.0: -0.4007657863710712}, 'SSN': {0.0: -0.0004622030819136924, 1.0: -7.679737284863716}, 'CITY': {0.0: -0.150544879916362, 1.0: -1.9678223286970988}, 'PHONE': {0.0: 0.0, 1.0: -88.65227799707114}}\n",
            "log weights of features: {'LAST': {0.0: -14.090692749034691, 1.0: 2.0758757082435135}, 'FIRST': {0.0: -30.08870672861933, 1.0: 0.6264015230848656}, 'GENDER': {0.0: -1.742078531331397, 1.0: 0.3411906243102223}, 'SSN': {0.0: -0.22208634188737975, 1.0: 6.06791580039223}, 'CITY': {0.0: -0.38338877703178387, 1.0: 1.085222269516814}, 'PHONE': {0.0: -0.2503665268906241, 1.0: 87.14487585167058}}\n",
            "weights of features: {'LAST': {0.0: 7.594337485724752e-07, 1.0: 7.971524132782094}, 'FIRST': {0.0: 8.56329095216248e-14, 1.0: 1.870866182994175}, 'GENDER': {0.0: 0.17515595485219482, 1.0: 1.4066213515320312}, 'SSN': {0.0: 0.8008462147757658, 1.0: 431.7798277733192}, 'CITY': {0.0: 0.6815478776112823, 1.0: 2.9600976851071548}, 'PHONE': {0.0: 0.7785153839483917, 1.0: 7.023259390263536e+37}}\n",
            "Predicted number of links: 396\n"
          ],
          "name": "stdout"
        }
      ]
    },
    {
      "cell_type": "code",
      "metadata": {
        "id": "yM_4bK9SJEqO",
        "colab_type": "code",
        "colab": {
          "base_uri": "https://localhost:8080/",
          "height": 225
        },
        "outputId": "931d7547-51e4-4206-cf49-ff03c427f674"
      },
      "source": [
        "probs[probs>.98]"
      ],
      "execution_count": 90,
      "outputs": [
        {
          "output_type": "execute_result",
          "data": {
            "text/plain": [
              "105   101    0.99961\n",
              "106   103    0.99829\n",
              "117   116    0.99684\n",
              "217   216    1.00000\n",
              "288   285    1.00000\n",
              "               ...  \n",
              "2331  2321   0.99961\n",
              "2334  2333   1.00000\n",
              "2385  2384   0.99829\n",
              "2427  2426   1.00000\n",
              "2494  2493   0.99684\n",
              "Length: 105, dtype: float64"
            ]
          },
          "metadata": {
            "tags": []
          },
          "execution_count": 90
        }
      ]
    },
    {
      "cell_type": "markdown",
      "metadata": {
        "id": "uSFCCNx2z4Qx",
        "colab_type": "text"
      },
      "source": [
        "# Checking a few matched records to see if they match"
      ]
    },
    {
      "cell_type": "code",
      "metadata": {
        "id": "lD6OeFJlJTe6",
        "colab_type": "code",
        "colab": {
          "base_uri": "https://localhost:8080/",
          "height": 112
        },
        "outputId": "0585949f-6c64-4fb7-8f21-5470032926ee"
      },
      "source": [
        "matching_data.iloc[[105,101],:]"
      ],
      "execution_count": 91,
      "outputs": [
        {
          "output_type": "execute_result",
          "data": {
            "text/html": [
              "<div>\n",
              "<style scoped>\n",
              "    .dataframe tbody tr th:only-of-type {\n",
              "        vertical-align: middle;\n",
              "    }\n",
              "\n",
              "    .dataframe tbody tr th {\n",
              "        vertical-align: top;\n",
              "    }\n",
              "\n",
              "    .dataframe thead th {\n",
              "        text-align: right;\n",
              "    }\n",
              "</style>\n",
              "<table border=\"1\" class=\"dataframe\">\n",
              "  <thead>\n",
              "    <tr style=\"text-align: right;\">\n",
              "      <th></th>\n",
              "      <th>LAST</th>\n",
              "      <th>FIRST</th>\n",
              "      <th>GENDER</th>\n",
              "      <th>SSN</th>\n",
              "      <th>CITY</th>\n",
              "      <th>PHONE</th>\n",
              "      <th>BLOCK_SN</th>\n",
              "    </tr>\n",
              "  </thead>\n",
              "  <tbody>\n",
              "    <tr>\n",
              "      <th>105</th>\n",
              "      <td>AARON</td>\n",
              "      <td>BRENT</td>\n",
              "      <td>M</td>\n",
              "      <td>891-71-5745</td>\n",
              "      <td>FLUSHING</td>\n",
              "      <td>2128679131</td>\n",
              "      <td>BRENTAARON891-71-5745FLUSHINGM2128679131</td>\n",
              "    </tr>\n",
              "    <tr>\n",
              "      <th>101</th>\n",
              "      <td>AARON</td>\n",
              "      <td>BRENT</td>\n",
              "      <td>M</td>\n",
              "      <td>891-71-5745</td>\n",
              "      <td>FLUSHING</td>\n",
              "      <td>6094834545</td>\n",
              "      <td>BRENTAARON891-71-5745FLUSHINGM6094834545</td>\n",
              "    </tr>\n",
              "  </tbody>\n",
              "</table>\n",
              "</div>"
            ],
            "text/plain": [
              "      LAST  FIRST  ...       PHONE                                  BLOCK_SN\n",
              "105  AARON  BRENT  ...  2128679131  BRENTAARON891-71-5745FLUSHINGM2128679131\n",
              "101  AARON  BRENT  ...  6094834545  BRENTAARON891-71-5745FLUSHINGM6094834545\n",
              "\n",
              "[2 rows x 7 columns]"
            ]
          },
          "metadata": {
            "tags": []
          },
          "execution_count": 91
        }
      ]
    },
    {
      "cell_type": "code",
      "metadata": {
        "id": "SN8HB7BSJyev",
        "colab_type": "code",
        "colab": {
          "base_uri": "https://localhost:8080/",
          "height": 112
        },
        "outputId": "1f52dfe1-a45f-465a-e4cb-bca673401c30"
      },
      "source": [
        "matching_data.iloc[[106,103],:]"
      ],
      "execution_count": 92,
      "outputs": [
        {
          "output_type": "execute_result",
          "data": {
            "text/html": [
              "<div>\n",
              "<style scoped>\n",
              "    .dataframe tbody tr th:only-of-type {\n",
              "        vertical-align: middle;\n",
              "    }\n",
              "\n",
              "    .dataframe tbody tr th {\n",
              "        vertical-align: top;\n",
              "    }\n",
              "\n",
              "    .dataframe thead th {\n",
              "        text-align: right;\n",
              "    }\n",
              "</style>\n",
              "<table border=\"1\" class=\"dataframe\">\n",
              "  <thead>\n",
              "    <tr style=\"text-align: right;\">\n",
              "      <th></th>\n",
              "      <th>LAST</th>\n",
              "      <th>FIRST</th>\n",
              "      <th>GENDER</th>\n",
              "      <th>SSN</th>\n",
              "      <th>CITY</th>\n",
              "      <th>PHONE</th>\n",
              "      <th>BLOCK_SN</th>\n",
              "    </tr>\n",
              "  </thead>\n",
              "  <tbody>\n",
              "    <tr>\n",
              "      <th>106</th>\n",
              "      <td>AARON</td>\n",
              "      <td>REECE</td>\n",
              "      <td>M</td>\n",
              "      <td>879-27-4618</td>\n",
              "      <td>NEW YORK</td>\n",
              "      <td>9592644070</td>\n",
              "      <td>REECEAARON879-27-4618NEW YORKM9592644070</td>\n",
              "    </tr>\n",
              "    <tr>\n",
              "      <th>103</th>\n",
              "      <td>AARON</td>\n",
              "      <td>REECE</td>\n",
              "      <td>M</td>\n",
              "      <td>879-27-4618</td>\n",
              "      <td>NaN</td>\n",
              "      <td>2672569637</td>\n",
              "      <td>REECEAARON879-27-4618nanM2672569637</td>\n",
              "    </tr>\n",
              "  </tbody>\n",
              "</table>\n",
              "</div>"
            ],
            "text/plain": [
              "      LAST  FIRST  ...       PHONE                                  BLOCK_SN\n",
              "106  AARON  REECE  ...  9592644070  REECEAARON879-27-4618NEW YORKM9592644070\n",
              "103  AARON  REECE  ...  2672569637       REECEAARON879-27-4618nanM2672569637\n",
              "\n",
              "[2 rows x 7 columns]"
            ]
          },
          "metadata": {
            "tags": []
          },
          "execution_count": 92
        }
      ]
    },
    {
      "cell_type": "code",
      "metadata": {
        "id": "E46RlNzPibwB",
        "colab_type": "code",
        "colab": {
          "base_uri": "https://localhost:8080/",
          "height": 112
        },
        "outputId": "3ff0f34b-4e4d-4b00-88a3-cf824c3a507e"
      },
      "source": [
        "matching_data.iloc[[2494,2493],:]"
      ],
      "execution_count": 93,
      "outputs": [
        {
          "output_type": "execute_result",
          "data": {
            "text/html": [
              "<div>\n",
              "<style scoped>\n",
              "    .dataframe tbody tr th:only-of-type {\n",
              "        vertical-align: middle;\n",
              "    }\n",
              "\n",
              "    .dataframe tbody tr th {\n",
              "        vertical-align: top;\n",
              "    }\n",
              "\n",
              "    .dataframe thead th {\n",
              "        text-align: right;\n",
              "    }\n",
              "</style>\n",
              "<table border=\"1\" class=\"dataframe\">\n",
              "  <thead>\n",
              "    <tr style=\"text-align: right;\">\n",
              "      <th></th>\n",
              "      <th>LAST</th>\n",
              "      <th>FIRST</th>\n",
              "      <th>GENDER</th>\n",
              "      <th>SSN</th>\n",
              "      <th>CITY</th>\n",
              "      <th>PHONE</th>\n",
              "      <th>BLOCK_SN</th>\n",
              "    </tr>\n",
              "  </thead>\n",
              "  <tbody>\n",
              "    <tr>\n",
              "      <th>2494</th>\n",
              "      <td>ABUSUFAIT</td>\n",
              "      <td>BREANA</td>\n",
              "      <td>U</td>\n",
              "      <td>807-66-1099</td>\n",
              "      <td>BROOKLYN</td>\n",
              "      <td>8484033472</td>\n",
              "      <td>BREANAABUSUFAIT807-66-1099BROOKLYNU8484033472</td>\n",
              "    </tr>\n",
              "    <tr>\n",
              "      <th>2493</th>\n",
              "      <td>ABUSUFAIT</td>\n",
              "      <td>BREANA</td>\n",
              "      <td>F</td>\n",
              "      <td>807-66-1099</td>\n",
              "      <td>BROOKLYN</td>\n",
              "      <td>5707997574</td>\n",
              "      <td>BREANAABUSUFAIT807-66-1099BROOKLYNF5707997574</td>\n",
              "    </tr>\n",
              "  </tbody>\n",
              "</table>\n",
              "</div>"
            ],
            "text/plain": [
              "           LAST  ...                                       BLOCK_SN\n",
              "2494  ABUSUFAIT  ...  BREANAABUSUFAIT807-66-1099BROOKLYNU8484033472\n",
              "2493  ABUSUFAIT  ...  BREANAABUSUFAIT807-66-1099BROOKLYNF5707997574\n",
              "\n",
              "[2 rows x 7 columns]"
            ]
          },
          "metadata": {
            "tags": []
          },
          "execution_count": 93
        }
      ]
    },
    {
      "cell_type": "code",
      "metadata": {
        "id": "WP70OoBKuN3x",
        "colab_type": "code",
        "colab": {
          "base_uri": "https://localhost:8080/",
          "height": 112
        },
        "outputId": "fb5968d0-726d-4d66-d899-f0bb7e5a202b"
      },
      "source": [
        "matching_data.iloc[[2331,2321],:]"
      ],
      "execution_count": 112,
      "outputs": [
        {
          "output_type": "execute_result",
          "data": {
            "text/html": [
              "<div>\n",
              "<style scoped>\n",
              "    .dataframe tbody tr th:only-of-type {\n",
              "        vertical-align: middle;\n",
              "    }\n",
              "\n",
              "    .dataframe tbody tr th {\n",
              "        vertical-align: top;\n",
              "    }\n",
              "\n",
              "    .dataframe thead th {\n",
              "        text-align: right;\n",
              "    }\n",
              "</style>\n",
              "<table border=\"1\" class=\"dataframe\">\n",
              "  <thead>\n",
              "    <tr style=\"text-align: right;\">\n",
              "      <th></th>\n",
              "      <th>LAST</th>\n",
              "      <th>FIRST</th>\n",
              "      <th>GENDER</th>\n",
              "      <th>SSN</th>\n",
              "      <th>CITY</th>\n",
              "      <th>PHONE</th>\n",
              "      <th>BLOCK_SN</th>\n",
              "    </tr>\n",
              "  </thead>\n",
              "  <tbody>\n",
              "    <tr>\n",
              "      <th>2331</th>\n",
              "      <td>ABRPLE</td>\n",
              "      <td>CATHERINE</td>\n",
              "      <td>F</td>\n",
              "      <td>896-30-8100</td>\n",
              "      <td>BROOKLYN</td>\n",
              "      <td>NaN</td>\n",
              "      <td>CATHERINEABRPLE896-30-8100BROOKLYNFnan</td>\n",
              "    </tr>\n",
              "    <tr>\n",
              "      <th>2321</th>\n",
              "      <td>ABROLE</td>\n",
              "      <td>CATHERINE</td>\n",
              "      <td>F</td>\n",
              "      <td>896-30-8100</td>\n",
              "      <td>BROOKLYN</td>\n",
              "      <td>7328624547</td>\n",
              "      <td>CATHERINEABROLE896-30-8100BROOKLYNF7328624547</td>\n",
              "    </tr>\n",
              "  </tbody>\n",
              "</table>\n",
              "</div>"
            ],
            "text/plain": [
              "        LAST  ...                                       BLOCK_SN\n",
              "2331  ABRPLE  ...         CATHERINEABRPLE896-30-8100BROOKLYNFnan\n",
              "2321  ABROLE  ...  CATHERINEABROLE896-30-8100BROOKLYNF7328624547\n",
              "\n",
              "[2 rows x 7 columns]"
            ]
          },
          "metadata": {
            "tags": []
          },
          "execution_count": 112
        }
      ]
    },
    {
      "cell_type": "code",
      "metadata": {
        "id": "gKZO7Jd9zZJp",
        "colab_type": "code",
        "colab": {}
      },
      "source": [
        ""
      ],
      "execution_count": null,
      "outputs": []
    }
  ]
}